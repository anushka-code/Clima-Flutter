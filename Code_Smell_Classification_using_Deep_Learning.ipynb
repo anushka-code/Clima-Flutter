{
  "cells": [
    {
      "cell_type": "markdown",
      "metadata": {
        "id": "view-in-github",
        "colab_type": "text"
      },
      "source": [
        "<a href=\"https://colab.research.google.com/github/anushka-code/Clima-Flutter/blob/master/Code_Smell_Classification_using_Deep_Learning.ipynb\" target=\"_parent\"><img src=\"https://colab.research.google.com/assets/colab-badge.svg\" alt=\"Open In Colab\"/></a>"
      ]
    },
    {
      "cell_type": "markdown",
      "metadata": {
        "id": "43MndqI-FQco"
      },
      "source": [
        "#Code Smell Detection (Smelly/Non Smelly) using Structural & Semantic Features \n",
        "\n",
        "#Code Smells Targetted: \n",
        "\n",
        "\n",
        "1.   Long Parameters List\n",
        "2.   Switch Statements\n",
        "\n",
        "\n",
        "\n",
        "\n",
        "\n"
      ]
    },
    {
      "cell_type": "markdown",
      "metadata": {
        "id": "QMyUsHLL788D"
      },
      "source": [
        "###Importing Libraries"
      ]
    },
    {
      "cell_type": "code",
      "source": [
        "!pip install transformers"
      ],
      "metadata": {
        "id": "st0sXOh2xRj4",
        "colab": {
          "base_uri": "https://localhost:8080/"
        },
        "outputId": "7a4394e3-c1d5-48dd-802d-0196fe992553"
      },
      "execution_count": 1,
      "outputs": [
        {
          "output_type": "stream",
          "name": "stdout",
          "text": [
            "Collecting transformers\n",
            "  Downloading transformers-4.18.0-py3-none-any.whl (4.0 MB)\n",
            "\u001b[K     |████████████████████████████████| 4.0 MB 5.3 MB/s \n",
            "\u001b[?25hRequirement already satisfied: requests in /usr/local/lib/python3.7/dist-packages (from transformers) (2.23.0)\n",
            "Requirement already satisfied: packaging>=20.0 in /usr/local/lib/python3.7/dist-packages (from transformers) (21.3)\n",
            "Requirement already satisfied: filelock in /usr/local/lib/python3.7/dist-packages (from transformers) (3.6.0)\n",
            "Collecting pyyaml>=5.1\n",
            "  Downloading PyYAML-6.0-cp37-cp37m-manylinux_2_5_x86_64.manylinux1_x86_64.manylinux_2_12_x86_64.manylinux2010_x86_64.whl (596 kB)\n",
            "\u001b[K     |████████████████████████████████| 596 kB 38.6 MB/s \n",
            "\u001b[?25hCollecting huggingface-hub<1.0,>=0.1.0\n",
            "  Downloading huggingface_hub-0.5.1-py3-none-any.whl (77 kB)\n",
            "\u001b[K     |████████████████████████████████| 77 kB 6.9 MB/s \n",
            "\u001b[?25hCollecting sacremoses\n",
            "  Downloading sacremoses-0.0.49-py3-none-any.whl (895 kB)\n",
            "\u001b[K     |████████████████████████████████| 895 kB 40.9 MB/s \n",
            "\u001b[?25hRequirement already satisfied: importlib-metadata in /usr/local/lib/python3.7/dist-packages (from transformers) (4.11.3)\n",
            "Collecting tokenizers!=0.11.3,<0.13,>=0.11.1\n",
            "  Downloading tokenizers-0.12.1-cp37-cp37m-manylinux_2_12_x86_64.manylinux2010_x86_64.whl (6.6 MB)\n",
            "\u001b[K     |████████████████████████████████| 6.6 MB 37.3 MB/s \n",
            "\u001b[?25hRequirement already satisfied: numpy>=1.17 in /usr/local/lib/python3.7/dist-packages (from transformers) (1.21.6)\n",
            "Requirement already satisfied: tqdm>=4.27 in /usr/local/lib/python3.7/dist-packages (from transformers) (4.64.0)\n",
            "Requirement already satisfied: regex!=2019.12.17 in /usr/local/lib/python3.7/dist-packages (from transformers) (2019.12.20)\n",
            "Requirement already satisfied: typing-extensions>=3.7.4.3 in /usr/local/lib/python3.7/dist-packages (from huggingface-hub<1.0,>=0.1.0->transformers) (4.2.0)\n",
            "Requirement already satisfied: pyparsing!=3.0.5,>=2.0.2 in /usr/local/lib/python3.7/dist-packages (from packaging>=20.0->transformers) (3.0.8)\n",
            "Requirement already satisfied: zipp>=0.5 in /usr/local/lib/python3.7/dist-packages (from importlib-metadata->transformers) (3.8.0)\n",
            "Requirement already satisfied: idna<3,>=2.5 in /usr/local/lib/python3.7/dist-packages (from requests->transformers) (2.10)\n",
            "Requirement already satisfied: certifi>=2017.4.17 in /usr/local/lib/python3.7/dist-packages (from requests->transformers) (2021.10.8)\n",
            "Requirement already satisfied: chardet<4,>=3.0.2 in /usr/local/lib/python3.7/dist-packages (from requests->transformers) (3.0.4)\n",
            "Requirement already satisfied: urllib3!=1.25.0,!=1.25.1,<1.26,>=1.21.1 in /usr/local/lib/python3.7/dist-packages (from requests->transformers) (1.24.3)\n",
            "Requirement already satisfied: joblib in /usr/local/lib/python3.7/dist-packages (from sacremoses->transformers) (1.1.0)\n",
            "Requirement already satisfied: click in /usr/local/lib/python3.7/dist-packages (from sacremoses->transformers) (7.1.2)\n",
            "Requirement already satisfied: six in /usr/local/lib/python3.7/dist-packages (from sacremoses->transformers) (1.15.0)\n",
            "Installing collected packages: pyyaml, tokenizers, sacremoses, huggingface-hub, transformers\n",
            "  Attempting uninstall: pyyaml\n",
            "    Found existing installation: PyYAML 3.13\n",
            "    Uninstalling PyYAML-3.13:\n",
            "      Successfully uninstalled PyYAML-3.13\n",
            "Successfully installed huggingface-hub-0.5.1 pyyaml-6.0 sacremoses-0.0.49 tokenizers-0.12.1 transformers-4.18.0\n"
          ]
        }
      ]
    },
    {
      "cell_type": "code",
      "execution_count": 98,
      "metadata": {
        "id": "noy7PwtVGNTg"
      },
      "outputs": [],
      "source": [
        "import numpy as np\n",
        "import pandas as pd\n",
        "import tensorflow as tf\n",
        "from tensorflow import keras\n",
        "from keras.models import Functional, Model\n",
        "from keras.layers import Input, Convolution1D, MaxPooling1D, Flatten, Dense, concatenate\n",
        "from keras.utils import np_utils\n",
        "from keras.preprocessing.text import Tokenizer\n",
        "from tensorflow.keras.preprocessing.sequence import pad_sequences\n",
        "from tensorflow.keras.layers import LSTM, Embedding, Bidirectional\n",
        "from tensorflow.compat.v1.keras.layers import CuDNNLSTM\n",
        "import sklearn\n",
        "from sklearn.preprocessing import MinMaxScaler\n",
        "from sklearn import model_selection\n",
        "from sklearn.model_selection import StratifiedKFold, GridSearchCV\n",
        "from sklearn.model_selection import train_test_split\n",
        "from sklearn.feature_extraction.text import TfidfVectorizer\n",
        "from sklearn.pipeline import Pipeline, FeatureUnion\n",
        "from sklearn.ensemble import RandomForestClassifier\n",
        "from sklearn.preprocessing import FunctionTransformer\n",
        "from sklearn.metrics import accuracy_score, confusion_matrix, classification_report\n",
        "import imblearn\n",
        "from imblearn.over_sampling import SMOTE\n",
        "import nltk \n",
        "from nltk.tokenize import RegexpTokenizer\n",
        "import re\n",
        "import gensim\n",
        "from gensim.models import Word2Vec\n",
        "from gensim.scripts.glove2word2vec import glove2word2vec\n",
        "import transformers\n",
        "from transformers import TFDistilBertModel, DistilBertConfig, DistilBertTokenizerFast\n",
        "\n",
        "\n",
        "\n",
        "\n",
        "# import transformers\n",
        "# from transformers import DistilBertTokenizer\n",
        "# from transformers import TFDistilBertModel"
      ]
    },
    {
      "cell_type": "markdown",
      "metadata": {
        "id": "Gl2ewKuLLSik"
      },
      "source": [
        "###Mounting Google Drive"
      ]
    },
    {
      "cell_type": "code",
      "execution_count": 3,
      "metadata": {
        "id": "EVp73IfEKQAV"
      },
      "outputs": [],
      "source": [
        "from pydrive.auth import GoogleAuth\n",
        "from pydrive.drive import GoogleDrive\n",
        "from google.colab import auth\n",
        "from oauth2client.client import GoogleCredentials\n",
        "\n",
        "auth.authenticate_user()\n",
        "gauth = GoogleAuth()\n",
        "gauth.credentials = GoogleCredentials.get_application_default()\n",
        "drive = GoogleDrive(gauth)"
      ]
    },
    {
      "cell_type": "markdown",
      "metadata": {
        "id": "6R-MYnl67itv"
      },
      "source": [
        "###Dataset Loader"
      ]
    },
    {
      "cell_type": "code",
      "execution_count": 4,
      "metadata": {
        "id": "ULHBQ7_L53EO"
      },
      "outputs": [],
      "source": [
        "def DataLoader(link, name_of_file):\n",
        "  id = link.split(\"/\")[-2]\n",
        "  downloaded = drive.CreateFile({'id':id}) \n",
        "  downloaded.GetContentFile(name_of_file)\n",
        "  dataframe = pd.read_csv(name_of_file)\n",
        "  return dataframe\n",
        "\n",
        "link1 = 'https://drive.google.com/file/d/1EfbAqgr7i9h4yFwEoU3igG34Gt48l6WT/view?usp=sharing'\n",
        "link2 = 'https://drive.google.com/file/d/1Ya1OMWsz1yyXAaZheIck-roX0M9UWiqg/view?usp=sharing'\n",
        "link3 = 'https://drive.google.com/file/d/1xeMRB6ACyjep6VF_rDRq8cXkA58ZlEZs/view?usp=sharing'\n",
        "link4 = 'https://drive.google.com/file/d/1OxxMX7-kc7mQUvb2DSJR_fbtvZ5bB1Ef/view?usp=sharing'\n",
        "link5 = 'https://drive.google.com/file/d/1mRIgoXhLwCdao7f9yD2QTSi7JNZNq9zJ/view?usp=sharing'\n",
        "link6 = 'https://drive.google.com/file/d/1rLkJAwHkBAAkHMp2L1Y1AzuniIZdyB7x/view?usp=sharing'\n",
        "name1 = 'long_parameters_list_structural.csv'\n",
        "name2 = 'switch_statements_structural.csv'\n",
        "name3 = 'long_parameters_list_semantic.csv'\n",
        "name4 = 'switch_statements_semantic.csv'\n",
        "name5 = 'multilabel_classification_dataset.csv'\n",
        "name6 = 'semantic_final.csv'\n",
        "\n",
        "df_lp = DataLoader(link1, name1)\n",
        "df_ss = DataLoader(link2, name2)\n",
        "df_lpm = DataLoader(link3, name3)\n",
        "df_ssm = DataLoader(link4, name4)\n",
        "df_multilabel = DataLoader(link5, name5)\n",
        "df_semantic = DataLoader(link6,name6)"
      ]
    },
    {
      "cell_type": "markdown",
      "metadata": {
        "id": "V-VE5KVKkMHL"
      },
      "source": [
        "Long Parameters List Structural Dataset"
      ]
    },
    {
      "cell_type": "code",
      "execution_count": 5,
      "metadata": {
        "id": "MJ8g3uXM6qPO",
        "colab": {
          "base_uri": "https://localhost:8080/",
          "height": 0
        },
        "outputId": "c7be7637-bab5-4d76-cdfa-92a1f96a309f"
      },
      "outputs": [
        {
          "output_type": "execute_result",
          "data": {
            "text/plain": [
              "   NOP_method  CC_method ATFD_method FDP_method  CM_method  MAXNESTING_method  \\\n",
              "0           0          0           0          0          0                  2   \n",
              "1           0          0           0          0          0                  1   \n",
              "2           1          0           0          0          0                  1   \n",
              "3           0          5           0          0          9                  0   \n",
              "4           1          0           1          1          0                  1   \n",
              "\n",
              "   LOC_method  CYCLO_method  NMCS_method  NOLV_method  ...  NOI_package  \\\n",
              "0           8             2            0            0  ...            0   \n",
              "1           3             1            0            0  ...            0   \n",
              "2           2             1            0            1  ...            0   \n",
              "3           1             1            0            0  ...           11   \n",
              "4           3             1            0            1  ...           11   \n",
              "\n",
              "  LOC_package NOM_package  NOPK_project  NOCS_project NOI_project  \\\n",
              "0         229          16            43           849          78   \n",
              "1        4223         240            43           849          78   \n",
              "2        4223         240            43           849          78   \n",
              "3        6037         728            43           849          78   \n",
              "4        6037         728            43           849          78   \n",
              "\n",
              "   NOM_project  NOMNAMM_project  LOC_project  is_long_parameters_list  \n",
              "0         5788             4778        65687                    False  \n",
              "1         5788             4778        65687                    False  \n",
              "2         5788             4778        65687                    False  \n",
              "3         5788             4778        65687                    False  \n",
              "4         5788             4778        65687                    False  \n",
              "\n",
              "[5 rows x 57 columns]"
            ],
            "text/html": [
              "\n",
              "  <div id=\"df-9720923c-e61a-466e-ad4d-95d1f6de2737\">\n",
              "    <div class=\"colab-df-container\">\n",
              "      <div>\n",
              "<style scoped>\n",
              "    .dataframe tbody tr th:only-of-type {\n",
              "        vertical-align: middle;\n",
              "    }\n",
              "\n",
              "    .dataframe tbody tr th {\n",
              "        vertical-align: top;\n",
              "    }\n",
              "\n",
              "    .dataframe thead th {\n",
              "        text-align: right;\n",
              "    }\n",
              "</style>\n",
              "<table border=\"1\" class=\"dataframe\">\n",
              "  <thead>\n",
              "    <tr style=\"text-align: right;\">\n",
              "      <th></th>\n",
              "      <th>NOP_method</th>\n",
              "      <th>CC_method</th>\n",
              "      <th>ATFD_method</th>\n",
              "      <th>FDP_method</th>\n",
              "      <th>CM_method</th>\n",
              "      <th>MAXNESTING_method</th>\n",
              "      <th>LOC_method</th>\n",
              "      <th>CYCLO_method</th>\n",
              "      <th>NMCS_method</th>\n",
              "      <th>NOLV_method</th>\n",
              "      <th>...</th>\n",
              "      <th>NOI_package</th>\n",
              "      <th>LOC_package</th>\n",
              "      <th>NOM_package</th>\n",
              "      <th>NOPK_project</th>\n",
              "      <th>NOCS_project</th>\n",
              "      <th>NOI_project</th>\n",
              "      <th>NOM_project</th>\n",
              "      <th>NOMNAMM_project</th>\n",
              "      <th>LOC_project</th>\n",
              "      <th>is_long_parameters_list</th>\n",
              "    </tr>\n",
              "  </thead>\n",
              "  <tbody>\n",
              "    <tr>\n",
              "      <th>0</th>\n",
              "      <td>0</td>\n",
              "      <td>0</td>\n",
              "      <td>0</td>\n",
              "      <td>0</td>\n",
              "      <td>0</td>\n",
              "      <td>2</td>\n",
              "      <td>8</td>\n",
              "      <td>2</td>\n",
              "      <td>0</td>\n",
              "      <td>0</td>\n",
              "      <td>...</td>\n",
              "      <td>0</td>\n",
              "      <td>229</td>\n",
              "      <td>16</td>\n",
              "      <td>43</td>\n",
              "      <td>849</td>\n",
              "      <td>78</td>\n",
              "      <td>5788</td>\n",
              "      <td>4778</td>\n",
              "      <td>65687</td>\n",
              "      <td>False</td>\n",
              "    </tr>\n",
              "    <tr>\n",
              "      <th>1</th>\n",
              "      <td>0</td>\n",
              "      <td>0</td>\n",
              "      <td>0</td>\n",
              "      <td>0</td>\n",
              "      <td>0</td>\n",
              "      <td>1</td>\n",
              "      <td>3</td>\n",
              "      <td>1</td>\n",
              "      <td>0</td>\n",
              "      <td>0</td>\n",
              "      <td>...</td>\n",
              "      <td>0</td>\n",
              "      <td>4223</td>\n",
              "      <td>240</td>\n",
              "      <td>43</td>\n",
              "      <td>849</td>\n",
              "      <td>78</td>\n",
              "      <td>5788</td>\n",
              "      <td>4778</td>\n",
              "      <td>65687</td>\n",
              "      <td>False</td>\n",
              "    </tr>\n",
              "    <tr>\n",
              "      <th>2</th>\n",
              "      <td>1</td>\n",
              "      <td>0</td>\n",
              "      <td>0</td>\n",
              "      <td>0</td>\n",
              "      <td>0</td>\n",
              "      <td>1</td>\n",
              "      <td>2</td>\n",
              "      <td>1</td>\n",
              "      <td>0</td>\n",
              "      <td>1</td>\n",
              "      <td>...</td>\n",
              "      <td>0</td>\n",
              "      <td>4223</td>\n",
              "      <td>240</td>\n",
              "      <td>43</td>\n",
              "      <td>849</td>\n",
              "      <td>78</td>\n",
              "      <td>5788</td>\n",
              "      <td>4778</td>\n",
              "      <td>65687</td>\n",
              "      <td>False</td>\n",
              "    </tr>\n",
              "    <tr>\n",
              "      <th>3</th>\n",
              "      <td>0</td>\n",
              "      <td>5</td>\n",
              "      <td>0</td>\n",
              "      <td>0</td>\n",
              "      <td>9</td>\n",
              "      <td>0</td>\n",
              "      <td>1</td>\n",
              "      <td>1</td>\n",
              "      <td>0</td>\n",
              "      <td>0</td>\n",
              "      <td>...</td>\n",
              "      <td>11</td>\n",
              "      <td>6037</td>\n",
              "      <td>728</td>\n",
              "      <td>43</td>\n",
              "      <td>849</td>\n",
              "      <td>78</td>\n",
              "      <td>5788</td>\n",
              "      <td>4778</td>\n",
              "      <td>65687</td>\n",
              "      <td>False</td>\n",
              "    </tr>\n",
              "    <tr>\n",
              "      <th>4</th>\n",
              "      <td>1</td>\n",
              "      <td>0</td>\n",
              "      <td>1</td>\n",
              "      <td>1</td>\n",
              "      <td>0</td>\n",
              "      <td>1</td>\n",
              "      <td>3</td>\n",
              "      <td>1</td>\n",
              "      <td>0</td>\n",
              "      <td>1</td>\n",
              "      <td>...</td>\n",
              "      <td>11</td>\n",
              "      <td>6037</td>\n",
              "      <td>728</td>\n",
              "      <td>43</td>\n",
              "      <td>849</td>\n",
              "      <td>78</td>\n",
              "      <td>5788</td>\n",
              "      <td>4778</td>\n",
              "      <td>65687</td>\n",
              "      <td>False</td>\n",
              "    </tr>\n",
              "  </tbody>\n",
              "</table>\n",
              "<p>5 rows × 57 columns</p>\n",
              "</div>\n",
              "      <button class=\"colab-df-convert\" onclick=\"convertToInteractive('df-9720923c-e61a-466e-ad4d-95d1f6de2737')\"\n",
              "              title=\"Convert this dataframe to an interactive table.\"\n",
              "              style=\"display:none;\">\n",
              "        \n",
              "  <svg xmlns=\"http://www.w3.org/2000/svg\" height=\"24px\"viewBox=\"0 0 24 24\"\n",
              "       width=\"24px\">\n",
              "    <path d=\"M0 0h24v24H0V0z\" fill=\"none\"/>\n",
              "    <path d=\"M18.56 5.44l.94 2.06.94-2.06 2.06-.94-2.06-.94-.94-2.06-.94 2.06-2.06.94zm-11 1L8.5 8.5l.94-2.06 2.06-.94-2.06-.94L8.5 2.5l-.94 2.06-2.06.94zm10 10l.94 2.06.94-2.06 2.06-.94-2.06-.94-.94-2.06-.94 2.06-2.06.94z\"/><path d=\"M17.41 7.96l-1.37-1.37c-.4-.4-.92-.59-1.43-.59-.52 0-1.04.2-1.43.59L10.3 9.45l-7.72 7.72c-.78.78-.78 2.05 0 2.83L4 21.41c.39.39.9.59 1.41.59.51 0 1.02-.2 1.41-.59l7.78-7.78 2.81-2.81c.8-.78.8-2.07 0-2.86zM5.41 20L4 18.59l7.72-7.72 1.47 1.35L5.41 20z\"/>\n",
              "  </svg>\n",
              "      </button>\n",
              "      \n",
              "  <style>\n",
              "    .colab-df-container {\n",
              "      display:flex;\n",
              "      flex-wrap:wrap;\n",
              "      gap: 12px;\n",
              "    }\n",
              "\n",
              "    .colab-df-convert {\n",
              "      background-color: #E8F0FE;\n",
              "      border: none;\n",
              "      border-radius: 50%;\n",
              "      cursor: pointer;\n",
              "      display: none;\n",
              "      fill: #1967D2;\n",
              "      height: 32px;\n",
              "      padding: 0 0 0 0;\n",
              "      width: 32px;\n",
              "    }\n",
              "\n",
              "    .colab-df-convert:hover {\n",
              "      background-color: #E2EBFA;\n",
              "      box-shadow: 0px 1px 2px rgba(60, 64, 67, 0.3), 0px 1px 3px 1px rgba(60, 64, 67, 0.15);\n",
              "      fill: #174EA6;\n",
              "    }\n",
              "\n",
              "    [theme=dark] .colab-df-convert {\n",
              "      background-color: #3B4455;\n",
              "      fill: #D2E3FC;\n",
              "    }\n",
              "\n",
              "    [theme=dark] .colab-df-convert:hover {\n",
              "      background-color: #434B5C;\n",
              "      box-shadow: 0px 1px 3px 1px rgba(0, 0, 0, 0.15);\n",
              "      filter: drop-shadow(0px 1px 2px rgba(0, 0, 0, 0.3));\n",
              "      fill: #FFFFFF;\n",
              "    }\n",
              "  </style>\n",
              "\n",
              "      <script>\n",
              "        const buttonEl =\n",
              "          document.querySelector('#df-9720923c-e61a-466e-ad4d-95d1f6de2737 button.colab-df-convert');\n",
              "        buttonEl.style.display =\n",
              "          google.colab.kernel.accessAllowed ? 'block' : 'none';\n",
              "\n",
              "        async function convertToInteractive(key) {\n",
              "          const element = document.querySelector('#df-9720923c-e61a-466e-ad4d-95d1f6de2737');\n",
              "          const dataTable =\n",
              "            await google.colab.kernel.invokeFunction('convertToInteractive',\n",
              "                                                     [key], {});\n",
              "          if (!dataTable) return;\n",
              "\n",
              "          const docLinkHtml = 'Like what you see? Visit the ' +\n",
              "            '<a target=\"_blank\" href=https://colab.research.google.com/notebooks/data_table.ipynb>data table notebook</a>'\n",
              "            + ' to learn more about interactive tables.';\n",
              "          element.innerHTML = '';\n",
              "          dataTable['output_type'] = 'display_data';\n",
              "          await google.colab.output.renderOutput(dataTable, element);\n",
              "          const docLink = document.createElement('div');\n",
              "          docLink.innerHTML = docLinkHtml;\n",
              "          element.appendChild(docLink);\n",
              "        }\n",
              "      </script>\n",
              "    </div>\n",
              "  </div>\n",
              "  "
            ]
          },
          "metadata": {},
          "execution_count": 5
        }
      ],
      "source": [
        "df_lp.head(5)"
      ]
    },
    {
      "cell_type": "markdown",
      "metadata": {
        "id": "ykY52hFC7FaT"
      },
      "source": [
        "Switch Statements Structural Dataset\n",
        "\n"
      ]
    },
    {
      "cell_type": "code",
      "execution_count": 6,
      "metadata": {
        "id": "lL0zKacc7tMH",
        "colab": {
          "base_uri": "https://localhost:8080/",
          "height": 0
        },
        "outputId": "8b50521f-115d-48c6-bc6c-24b185943026"
      },
      "outputs": [
        {
          "output_type": "execute_result",
          "data": {
            "text/plain": [
              "   NOP_method  CC_method ATFD_method FDP_method  CM_method  MAXNESTING_method  \\\n",
              "0           1          2           0          0          2                  1   \n",
              "1           0          0           0          0          0                  2   \n",
              "2           2          0           0          0          0                  1   \n",
              "3           0          0           0          0          0                  2   \n",
              "4           0          0           0          0          0                  1   \n",
              "\n",
              "   LOC_method  CYCLO_method  NMCS_method  NOLV_method  ...  NOI_package  \\\n",
              "0           5             1            0            1  ...            3   \n",
              "1           6             3            0            0  ...            0   \n",
              "2           3             1            0            2  ...            0   \n",
              "3           3             1            0            0  ...            0   \n",
              "4           3             1            0            0  ...            0   \n",
              "\n",
              "  LOC_package NOM_package  NOPK_project  NOCS_project NOI_project  \\\n",
              "0         439          53            43           849          78   \n",
              "1        4223         240            43           849          78   \n",
              "2        4223         240            43           849          78   \n",
              "3        1212         120            43           849          78   \n",
              "4         516          29            43           849          78   \n",
              "\n",
              "   NOM_project  NOMNAMM_project  LOC_project  is_switch_statements  \n",
              "0         5788             4778        65687                 False  \n",
              "1         5788             4778        65687                 False  \n",
              "2         5788             4778        65687                 False  \n",
              "3         5788             4778        65687                 False  \n",
              "4         5788             4778        65687                 False  \n",
              "\n",
              "[5 rows x 57 columns]"
            ],
            "text/html": [
              "\n",
              "  <div id=\"df-ec9b3596-9255-4049-9c69-3877386fc9cb\">\n",
              "    <div class=\"colab-df-container\">\n",
              "      <div>\n",
              "<style scoped>\n",
              "    .dataframe tbody tr th:only-of-type {\n",
              "        vertical-align: middle;\n",
              "    }\n",
              "\n",
              "    .dataframe tbody tr th {\n",
              "        vertical-align: top;\n",
              "    }\n",
              "\n",
              "    .dataframe thead th {\n",
              "        text-align: right;\n",
              "    }\n",
              "</style>\n",
              "<table border=\"1\" class=\"dataframe\">\n",
              "  <thead>\n",
              "    <tr style=\"text-align: right;\">\n",
              "      <th></th>\n",
              "      <th>NOP_method</th>\n",
              "      <th>CC_method</th>\n",
              "      <th>ATFD_method</th>\n",
              "      <th>FDP_method</th>\n",
              "      <th>CM_method</th>\n",
              "      <th>MAXNESTING_method</th>\n",
              "      <th>LOC_method</th>\n",
              "      <th>CYCLO_method</th>\n",
              "      <th>NMCS_method</th>\n",
              "      <th>NOLV_method</th>\n",
              "      <th>...</th>\n",
              "      <th>NOI_package</th>\n",
              "      <th>LOC_package</th>\n",
              "      <th>NOM_package</th>\n",
              "      <th>NOPK_project</th>\n",
              "      <th>NOCS_project</th>\n",
              "      <th>NOI_project</th>\n",
              "      <th>NOM_project</th>\n",
              "      <th>NOMNAMM_project</th>\n",
              "      <th>LOC_project</th>\n",
              "      <th>is_switch_statements</th>\n",
              "    </tr>\n",
              "  </thead>\n",
              "  <tbody>\n",
              "    <tr>\n",
              "      <th>0</th>\n",
              "      <td>1</td>\n",
              "      <td>2</td>\n",
              "      <td>0</td>\n",
              "      <td>0</td>\n",
              "      <td>2</td>\n",
              "      <td>1</td>\n",
              "      <td>5</td>\n",
              "      <td>1</td>\n",
              "      <td>0</td>\n",
              "      <td>1</td>\n",
              "      <td>...</td>\n",
              "      <td>3</td>\n",
              "      <td>439</td>\n",
              "      <td>53</td>\n",
              "      <td>43</td>\n",
              "      <td>849</td>\n",
              "      <td>78</td>\n",
              "      <td>5788</td>\n",
              "      <td>4778</td>\n",
              "      <td>65687</td>\n",
              "      <td>False</td>\n",
              "    </tr>\n",
              "    <tr>\n",
              "      <th>1</th>\n",
              "      <td>0</td>\n",
              "      <td>0</td>\n",
              "      <td>0</td>\n",
              "      <td>0</td>\n",
              "      <td>0</td>\n",
              "      <td>2</td>\n",
              "      <td>6</td>\n",
              "      <td>3</td>\n",
              "      <td>0</td>\n",
              "      <td>0</td>\n",
              "      <td>...</td>\n",
              "      <td>0</td>\n",
              "      <td>4223</td>\n",
              "      <td>240</td>\n",
              "      <td>43</td>\n",
              "      <td>849</td>\n",
              "      <td>78</td>\n",
              "      <td>5788</td>\n",
              "      <td>4778</td>\n",
              "      <td>65687</td>\n",
              "      <td>False</td>\n",
              "    </tr>\n",
              "    <tr>\n",
              "      <th>2</th>\n",
              "      <td>2</td>\n",
              "      <td>0</td>\n",
              "      <td>0</td>\n",
              "      <td>0</td>\n",
              "      <td>0</td>\n",
              "      <td>1</td>\n",
              "      <td>3</td>\n",
              "      <td>1</td>\n",
              "      <td>0</td>\n",
              "      <td>2</td>\n",
              "      <td>...</td>\n",
              "      <td>0</td>\n",
              "      <td>4223</td>\n",
              "      <td>240</td>\n",
              "      <td>43</td>\n",
              "      <td>849</td>\n",
              "      <td>78</td>\n",
              "      <td>5788</td>\n",
              "      <td>4778</td>\n",
              "      <td>65687</td>\n",
              "      <td>False</td>\n",
              "    </tr>\n",
              "    <tr>\n",
              "      <th>3</th>\n",
              "      <td>0</td>\n",
              "      <td>0</td>\n",
              "      <td>0</td>\n",
              "      <td>0</td>\n",
              "      <td>0</td>\n",
              "      <td>2</td>\n",
              "      <td>3</td>\n",
              "      <td>1</td>\n",
              "      <td>0</td>\n",
              "      <td>0</td>\n",
              "      <td>...</td>\n",
              "      <td>0</td>\n",
              "      <td>1212</td>\n",
              "      <td>120</td>\n",
              "      <td>43</td>\n",
              "      <td>849</td>\n",
              "      <td>78</td>\n",
              "      <td>5788</td>\n",
              "      <td>4778</td>\n",
              "      <td>65687</td>\n",
              "      <td>False</td>\n",
              "    </tr>\n",
              "    <tr>\n",
              "      <th>4</th>\n",
              "      <td>0</td>\n",
              "      <td>0</td>\n",
              "      <td>0</td>\n",
              "      <td>0</td>\n",
              "      <td>0</td>\n",
              "      <td>1</td>\n",
              "      <td>3</td>\n",
              "      <td>1</td>\n",
              "      <td>0</td>\n",
              "      <td>0</td>\n",
              "      <td>...</td>\n",
              "      <td>0</td>\n",
              "      <td>516</td>\n",
              "      <td>29</td>\n",
              "      <td>43</td>\n",
              "      <td>849</td>\n",
              "      <td>78</td>\n",
              "      <td>5788</td>\n",
              "      <td>4778</td>\n",
              "      <td>65687</td>\n",
              "      <td>False</td>\n",
              "    </tr>\n",
              "  </tbody>\n",
              "</table>\n",
              "<p>5 rows × 57 columns</p>\n",
              "</div>\n",
              "      <button class=\"colab-df-convert\" onclick=\"convertToInteractive('df-ec9b3596-9255-4049-9c69-3877386fc9cb')\"\n",
              "              title=\"Convert this dataframe to an interactive table.\"\n",
              "              style=\"display:none;\">\n",
              "        \n",
              "  <svg xmlns=\"http://www.w3.org/2000/svg\" height=\"24px\"viewBox=\"0 0 24 24\"\n",
              "       width=\"24px\">\n",
              "    <path d=\"M0 0h24v24H0V0z\" fill=\"none\"/>\n",
              "    <path d=\"M18.56 5.44l.94 2.06.94-2.06 2.06-.94-2.06-.94-.94-2.06-.94 2.06-2.06.94zm-11 1L8.5 8.5l.94-2.06 2.06-.94-2.06-.94L8.5 2.5l-.94 2.06-2.06.94zm10 10l.94 2.06.94-2.06 2.06-.94-2.06-.94-.94-2.06-.94 2.06-2.06.94z\"/><path d=\"M17.41 7.96l-1.37-1.37c-.4-.4-.92-.59-1.43-.59-.52 0-1.04.2-1.43.59L10.3 9.45l-7.72 7.72c-.78.78-.78 2.05 0 2.83L4 21.41c.39.39.9.59 1.41.59.51 0 1.02-.2 1.41-.59l7.78-7.78 2.81-2.81c.8-.78.8-2.07 0-2.86zM5.41 20L4 18.59l7.72-7.72 1.47 1.35L5.41 20z\"/>\n",
              "  </svg>\n",
              "      </button>\n",
              "      \n",
              "  <style>\n",
              "    .colab-df-container {\n",
              "      display:flex;\n",
              "      flex-wrap:wrap;\n",
              "      gap: 12px;\n",
              "    }\n",
              "\n",
              "    .colab-df-convert {\n",
              "      background-color: #E8F0FE;\n",
              "      border: none;\n",
              "      border-radius: 50%;\n",
              "      cursor: pointer;\n",
              "      display: none;\n",
              "      fill: #1967D2;\n",
              "      height: 32px;\n",
              "      padding: 0 0 0 0;\n",
              "      width: 32px;\n",
              "    }\n",
              "\n",
              "    .colab-df-convert:hover {\n",
              "      background-color: #E2EBFA;\n",
              "      box-shadow: 0px 1px 2px rgba(60, 64, 67, 0.3), 0px 1px 3px 1px rgba(60, 64, 67, 0.15);\n",
              "      fill: #174EA6;\n",
              "    }\n",
              "\n",
              "    [theme=dark] .colab-df-convert {\n",
              "      background-color: #3B4455;\n",
              "      fill: #D2E3FC;\n",
              "    }\n",
              "\n",
              "    [theme=dark] .colab-df-convert:hover {\n",
              "      background-color: #434B5C;\n",
              "      box-shadow: 0px 1px 3px 1px rgba(0, 0, 0, 0.15);\n",
              "      filter: drop-shadow(0px 1px 2px rgba(0, 0, 0, 0.3));\n",
              "      fill: #FFFFFF;\n",
              "    }\n",
              "  </style>\n",
              "\n",
              "      <script>\n",
              "        const buttonEl =\n",
              "          document.querySelector('#df-ec9b3596-9255-4049-9c69-3877386fc9cb button.colab-df-convert');\n",
              "        buttonEl.style.display =\n",
              "          google.colab.kernel.accessAllowed ? 'block' : 'none';\n",
              "\n",
              "        async function convertToInteractive(key) {\n",
              "          const element = document.querySelector('#df-ec9b3596-9255-4049-9c69-3877386fc9cb');\n",
              "          const dataTable =\n",
              "            await google.colab.kernel.invokeFunction('convertToInteractive',\n",
              "                                                     [key], {});\n",
              "          if (!dataTable) return;\n",
              "\n",
              "          const docLinkHtml = 'Like what you see? Visit the ' +\n",
              "            '<a target=\"_blank\" href=https://colab.research.google.com/notebooks/data_table.ipynb>data table notebook</a>'\n",
              "            + ' to learn more about interactive tables.';\n",
              "          element.innerHTML = '';\n",
              "          dataTable['output_type'] = 'display_data';\n",
              "          await google.colab.output.renderOutput(dataTable, element);\n",
              "          const docLink = document.createElement('div');\n",
              "          docLink.innerHTML = docLinkHtml;\n",
              "          element.appendChild(docLink);\n",
              "        }\n",
              "      </script>\n",
              "    </div>\n",
              "  </div>\n",
              "  "
            ]
          },
          "metadata": {},
          "execution_count": 6
        }
      ],
      "source": [
        "df_ss.head(5)"
      ]
    },
    {
      "cell_type": "markdown",
      "metadata": {
        "id": "CYV4ILz-X0lz"
      },
      "source": [
        "Long Parameters List Semantic Dataset"
      ]
    },
    {
      "cell_type": "code",
      "execution_count": 7,
      "metadata": {
        "id": "UrxaQ_rPVhQ9",
        "colab": {
          "base_uri": "https://localhost:8080/",
          "height": 0
        },
        "outputId": "94d22b26-9a72-47e9-bdff-52417cc6cff7"
      },
      "outputs": [
        {
          "output_type": "execute_result",
          "data": {
            "text/plain": [
              "                                             project  \\\n",
              "0  /mnt/qualitas/qualitas_corpus_compile/freemind...   \n",
              "1  /mnt/qualitas/qualitas_corpus_compile/freemind...   \n",
              "2  /mnt/qualitas/qualitas_corpus_compile/freemind...   \n",
              "3  /mnt/qualitas/qualitas_corpus_compile/freemind...   \n",
              "4  /mnt/qualitas/qualitas_corpus_compile/freemind...   \n",
              "\n",
              "                         package  \\\n",
              "0  freemind.modes.common.plugins   \n",
              "1     freemind.modes.mindmapmode   \n",
              "2     freemind.modes.mindmapmode   \n",
              "3                 freemind.modes   \n",
              "4                 freemind.modes   \n",
              "\n",
              "                                           class  \\\n",
              "0                               ReminderHookBase   \n",
              "1            MindMapMapModel.StringReaderCreator   \n",
              "2                              MindMapController   \n",
              "3                                    MindMapNode   \n",
              "4  ControllerAdapter.ControllerPopupMenuListener   \n",
              "\n",
              "                              method  is_code_smell  \n",
              "0                  shutdownMapHook()          False  \n",
              "1                     createReader()          False  \n",
              "2           newModel(ModeController)          False  \n",
              "3                         getColor()          False  \n",
              "4  popupMenuCanceled(PopupMenuEvent)          False  "
            ],
            "text/html": [
              "\n",
              "  <div id=\"df-58bdaa07-3e78-47f7-94c7-c8fc27e0cb35\">\n",
              "    <div class=\"colab-df-container\">\n",
              "      <div>\n",
              "<style scoped>\n",
              "    .dataframe tbody tr th:only-of-type {\n",
              "        vertical-align: middle;\n",
              "    }\n",
              "\n",
              "    .dataframe tbody tr th {\n",
              "        vertical-align: top;\n",
              "    }\n",
              "\n",
              "    .dataframe thead th {\n",
              "        text-align: right;\n",
              "    }\n",
              "</style>\n",
              "<table border=\"1\" class=\"dataframe\">\n",
              "  <thead>\n",
              "    <tr style=\"text-align: right;\">\n",
              "      <th></th>\n",
              "      <th>project</th>\n",
              "      <th>package</th>\n",
              "      <th>class</th>\n",
              "      <th>method</th>\n",
              "      <th>is_code_smell</th>\n",
              "    </tr>\n",
              "  </thead>\n",
              "  <tbody>\n",
              "    <tr>\n",
              "      <th>0</th>\n",
              "      <td>/mnt/qualitas/qualitas_corpus_compile/freemind...</td>\n",
              "      <td>freemind.modes.common.plugins</td>\n",
              "      <td>ReminderHookBase</td>\n",
              "      <td>shutdownMapHook()</td>\n",
              "      <td>False</td>\n",
              "    </tr>\n",
              "    <tr>\n",
              "      <th>1</th>\n",
              "      <td>/mnt/qualitas/qualitas_corpus_compile/freemind...</td>\n",
              "      <td>freemind.modes.mindmapmode</td>\n",
              "      <td>MindMapMapModel.StringReaderCreator</td>\n",
              "      <td>createReader()</td>\n",
              "      <td>False</td>\n",
              "    </tr>\n",
              "    <tr>\n",
              "      <th>2</th>\n",
              "      <td>/mnt/qualitas/qualitas_corpus_compile/freemind...</td>\n",
              "      <td>freemind.modes.mindmapmode</td>\n",
              "      <td>MindMapController</td>\n",
              "      <td>newModel(ModeController)</td>\n",
              "      <td>False</td>\n",
              "    </tr>\n",
              "    <tr>\n",
              "      <th>3</th>\n",
              "      <td>/mnt/qualitas/qualitas_corpus_compile/freemind...</td>\n",
              "      <td>freemind.modes</td>\n",
              "      <td>MindMapNode</td>\n",
              "      <td>getColor()</td>\n",
              "      <td>False</td>\n",
              "    </tr>\n",
              "    <tr>\n",
              "      <th>4</th>\n",
              "      <td>/mnt/qualitas/qualitas_corpus_compile/freemind...</td>\n",
              "      <td>freemind.modes</td>\n",
              "      <td>ControllerAdapter.ControllerPopupMenuListener</td>\n",
              "      <td>popupMenuCanceled(PopupMenuEvent)</td>\n",
              "      <td>False</td>\n",
              "    </tr>\n",
              "  </tbody>\n",
              "</table>\n",
              "</div>\n",
              "      <button class=\"colab-df-convert\" onclick=\"convertToInteractive('df-58bdaa07-3e78-47f7-94c7-c8fc27e0cb35')\"\n",
              "              title=\"Convert this dataframe to an interactive table.\"\n",
              "              style=\"display:none;\">\n",
              "        \n",
              "  <svg xmlns=\"http://www.w3.org/2000/svg\" height=\"24px\"viewBox=\"0 0 24 24\"\n",
              "       width=\"24px\">\n",
              "    <path d=\"M0 0h24v24H0V0z\" fill=\"none\"/>\n",
              "    <path d=\"M18.56 5.44l.94 2.06.94-2.06 2.06-.94-2.06-.94-.94-2.06-.94 2.06-2.06.94zm-11 1L8.5 8.5l.94-2.06 2.06-.94-2.06-.94L8.5 2.5l-.94 2.06-2.06.94zm10 10l.94 2.06.94-2.06 2.06-.94-2.06-.94-.94-2.06-.94 2.06-2.06.94z\"/><path d=\"M17.41 7.96l-1.37-1.37c-.4-.4-.92-.59-1.43-.59-.52 0-1.04.2-1.43.59L10.3 9.45l-7.72 7.72c-.78.78-.78 2.05 0 2.83L4 21.41c.39.39.9.59 1.41.59.51 0 1.02-.2 1.41-.59l7.78-7.78 2.81-2.81c.8-.78.8-2.07 0-2.86zM5.41 20L4 18.59l7.72-7.72 1.47 1.35L5.41 20z\"/>\n",
              "  </svg>\n",
              "      </button>\n",
              "      \n",
              "  <style>\n",
              "    .colab-df-container {\n",
              "      display:flex;\n",
              "      flex-wrap:wrap;\n",
              "      gap: 12px;\n",
              "    }\n",
              "\n",
              "    .colab-df-convert {\n",
              "      background-color: #E8F0FE;\n",
              "      border: none;\n",
              "      border-radius: 50%;\n",
              "      cursor: pointer;\n",
              "      display: none;\n",
              "      fill: #1967D2;\n",
              "      height: 32px;\n",
              "      padding: 0 0 0 0;\n",
              "      width: 32px;\n",
              "    }\n",
              "\n",
              "    .colab-df-convert:hover {\n",
              "      background-color: #E2EBFA;\n",
              "      box-shadow: 0px 1px 2px rgba(60, 64, 67, 0.3), 0px 1px 3px 1px rgba(60, 64, 67, 0.15);\n",
              "      fill: #174EA6;\n",
              "    }\n",
              "\n",
              "    [theme=dark] .colab-df-convert {\n",
              "      background-color: #3B4455;\n",
              "      fill: #D2E3FC;\n",
              "    }\n",
              "\n",
              "    [theme=dark] .colab-df-convert:hover {\n",
              "      background-color: #434B5C;\n",
              "      box-shadow: 0px 1px 3px 1px rgba(0, 0, 0, 0.15);\n",
              "      filter: drop-shadow(0px 1px 2px rgba(0, 0, 0, 0.3));\n",
              "      fill: #FFFFFF;\n",
              "    }\n",
              "  </style>\n",
              "\n",
              "      <script>\n",
              "        const buttonEl =\n",
              "          document.querySelector('#df-58bdaa07-3e78-47f7-94c7-c8fc27e0cb35 button.colab-df-convert');\n",
              "        buttonEl.style.display =\n",
              "          google.colab.kernel.accessAllowed ? 'block' : 'none';\n",
              "\n",
              "        async function convertToInteractive(key) {\n",
              "          const element = document.querySelector('#df-58bdaa07-3e78-47f7-94c7-c8fc27e0cb35');\n",
              "          const dataTable =\n",
              "            await google.colab.kernel.invokeFunction('convertToInteractive',\n",
              "                                                     [key], {});\n",
              "          if (!dataTable) return;\n",
              "\n",
              "          const docLinkHtml = 'Like what you see? Visit the ' +\n",
              "            '<a target=\"_blank\" href=https://colab.research.google.com/notebooks/data_table.ipynb>data table notebook</a>'\n",
              "            + ' to learn more about interactive tables.';\n",
              "          element.innerHTML = '';\n",
              "          dataTable['output_type'] = 'display_data';\n",
              "          await google.colab.output.renderOutput(dataTable, element);\n",
              "          const docLink = document.createElement('div');\n",
              "          docLink.innerHTML = docLinkHtml;\n",
              "          element.appendChild(docLink);\n",
              "        }\n",
              "      </script>\n",
              "    </div>\n",
              "  </div>\n",
              "  "
            ]
          },
          "metadata": {},
          "execution_count": 7
        }
      ],
      "source": [
        "df_lpm.head(5)"
      ]
    },
    {
      "cell_type": "markdown",
      "metadata": {
        "id": "kDWi4eGwYCot"
      },
      "source": [
        "Switch Statements Semantic Dataset"
      ]
    },
    {
      "cell_type": "code",
      "execution_count": 8,
      "metadata": {
        "id": "fpdgwNs3VnfQ",
        "colab": {
          "base_uri": "https://localhost:8080/",
          "height": 0
        },
        "outputId": "26f970a1-b707-4937-94e7-b12deb93a78a"
      },
      "outputs": [
        {
          "output_type": "execute_result",
          "data": {
            "text/plain": [
              "                                             project  \\\n",
              "0  /mnt/qualitas/qualitas_corpus_compile/freemind...   \n",
              "1  /mnt/qualitas/qualitas_corpus_compile/freemind...   \n",
              "2  /mnt/qualitas/qualitas_corpus_compile/freemind...   \n",
              "3  /mnt/qualitas/qualitas_corpus_compile/freemind...   \n",
              "4  /mnt/qualitas/qualitas_corpus_compile/freemind...   \n",
              "\n",
              "                                   package  \\\n",
              "0   freemind.modes.mindmapmode.actions.xml   \n",
              "1               freemind.modes.mindmapmode   \n",
              "2               freemind.modes.mindmapmode   \n",
              "3  freemind.view.mindmapview.attributeview   \n",
              "4     freemind.modes.mindmapmode.listeners   \n",
              "\n",
              "                                               class  \\\n",
              "0                                  AbstractXmlAction   \n",
              "1                               EncryptedMindMapNode   \n",
              "2     freemind.modes.mindmapmode.MindMapController$1   \n",
              "3  freemind.view.mindmapview.attributeview.Attrib...   \n",
              "4                          MindMapNodeMotionListener   \n",
              "\n",
              "                                    method  is_code_smell  \n",
              "0             actionPerformed(ActionEvent)          False  \n",
              "1                       childrenUnfolded()          False  \n",
              "2  apply(MindMapMapModel,MindMapNodeModel)          False  \n",
              "3                                    run()          False  \n",
              "4                               stopDrag()          False  "
            ],
            "text/html": [
              "\n",
              "  <div id=\"df-f7ad79d5-f08d-4d53-87b8-47198dda1b1c\">\n",
              "    <div class=\"colab-df-container\">\n",
              "      <div>\n",
              "<style scoped>\n",
              "    .dataframe tbody tr th:only-of-type {\n",
              "        vertical-align: middle;\n",
              "    }\n",
              "\n",
              "    .dataframe tbody tr th {\n",
              "        vertical-align: top;\n",
              "    }\n",
              "\n",
              "    .dataframe thead th {\n",
              "        text-align: right;\n",
              "    }\n",
              "</style>\n",
              "<table border=\"1\" class=\"dataframe\">\n",
              "  <thead>\n",
              "    <tr style=\"text-align: right;\">\n",
              "      <th></th>\n",
              "      <th>project</th>\n",
              "      <th>package</th>\n",
              "      <th>class</th>\n",
              "      <th>method</th>\n",
              "      <th>is_code_smell</th>\n",
              "    </tr>\n",
              "  </thead>\n",
              "  <tbody>\n",
              "    <tr>\n",
              "      <th>0</th>\n",
              "      <td>/mnt/qualitas/qualitas_corpus_compile/freemind...</td>\n",
              "      <td>freemind.modes.mindmapmode.actions.xml</td>\n",
              "      <td>AbstractXmlAction</td>\n",
              "      <td>actionPerformed(ActionEvent)</td>\n",
              "      <td>False</td>\n",
              "    </tr>\n",
              "    <tr>\n",
              "      <th>1</th>\n",
              "      <td>/mnt/qualitas/qualitas_corpus_compile/freemind...</td>\n",
              "      <td>freemind.modes.mindmapmode</td>\n",
              "      <td>EncryptedMindMapNode</td>\n",
              "      <td>childrenUnfolded()</td>\n",
              "      <td>False</td>\n",
              "    </tr>\n",
              "    <tr>\n",
              "      <th>2</th>\n",
              "      <td>/mnt/qualitas/qualitas_corpus_compile/freemind...</td>\n",
              "      <td>freemind.modes.mindmapmode</td>\n",
              "      <td>freemind.modes.mindmapmode.MindMapController$1</td>\n",
              "      <td>apply(MindMapMapModel,MindMapNodeModel)</td>\n",
              "      <td>False</td>\n",
              "    </tr>\n",
              "    <tr>\n",
              "      <th>3</th>\n",
              "      <td>/mnt/qualitas/qualitas_corpus_compile/freemind...</td>\n",
              "      <td>freemind.view.mindmapview.attributeview</td>\n",
              "      <td>freemind.view.mindmapview.attributeview.Attrib...</td>\n",
              "      <td>run()</td>\n",
              "      <td>False</td>\n",
              "    </tr>\n",
              "    <tr>\n",
              "      <th>4</th>\n",
              "      <td>/mnt/qualitas/qualitas_corpus_compile/freemind...</td>\n",
              "      <td>freemind.modes.mindmapmode.listeners</td>\n",
              "      <td>MindMapNodeMotionListener</td>\n",
              "      <td>stopDrag()</td>\n",
              "      <td>False</td>\n",
              "    </tr>\n",
              "  </tbody>\n",
              "</table>\n",
              "</div>\n",
              "      <button class=\"colab-df-convert\" onclick=\"convertToInteractive('df-f7ad79d5-f08d-4d53-87b8-47198dda1b1c')\"\n",
              "              title=\"Convert this dataframe to an interactive table.\"\n",
              "              style=\"display:none;\">\n",
              "        \n",
              "  <svg xmlns=\"http://www.w3.org/2000/svg\" height=\"24px\"viewBox=\"0 0 24 24\"\n",
              "       width=\"24px\">\n",
              "    <path d=\"M0 0h24v24H0V0z\" fill=\"none\"/>\n",
              "    <path d=\"M18.56 5.44l.94 2.06.94-2.06 2.06-.94-2.06-.94-.94-2.06-.94 2.06-2.06.94zm-11 1L8.5 8.5l.94-2.06 2.06-.94-2.06-.94L8.5 2.5l-.94 2.06-2.06.94zm10 10l.94 2.06.94-2.06 2.06-.94-2.06-.94-.94-2.06-.94 2.06-2.06.94z\"/><path d=\"M17.41 7.96l-1.37-1.37c-.4-.4-.92-.59-1.43-.59-.52 0-1.04.2-1.43.59L10.3 9.45l-7.72 7.72c-.78.78-.78 2.05 0 2.83L4 21.41c.39.39.9.59 1.41.59.51 0 1.02-.2 1.41-.59l7.78-7.78 2.81-2.81c.8-.78.8-2.07 0-2.86zM5.41 20L4 18.59l7.72-7.72 1.47 1.35L5.41 20z\"/>\n",
              "  </svg>\n",
              "      </button>\n",
              "      \n",
              "  <style>\n",
              "    .colab-df-container {\n",
              "      display:flex;\n",
              "      flex-wrap:wrap;\n",
              "      gap: 12px;\n",
              "    }\n",
              "\n",
              "    .colab-df-convert {\n",
              "      background-color: #E8F0FE;\n",
              "      border: none;\n",
              "      border-radius: 50%;\n",
              "      cursor: pointer;\n",
              "      display: none;\n",
              "      fill: #1967D2;\n",
              "      height: 32px;\n",
              "      padding: 0 0 0 0;\n",
              "      width: 32px;\n",
              "    }\n",
              "\n",
              "    .colab-df-convert:hover {\n",
              "      background-color: #E2EBFA;\n",
              "      box-shadow: 0px 1px 2px rgba(60, 64, 67, 0.3), 0px 1px 3px 1px rgba(60, 64, 67, 0.15);\n",
              "      fill: #174EA6;\n",
              "    }\n",
              "\n",
              "    [theme=dark] .colab-df-convert {\n",
              "      background-color: #3B4455;\n",
              "      fill: #D2E3FC;\n",
              "    }\n",
              "\n",
              "    [theme=dark] .colab-df-convert:hover {\n",
              "      background-color: #434B5C;\n",
              "      box-shadow: 0px 1px 3px 1px rgba(0, 0, 0, 0.15);\n",
              "      filter: drop-shadow(0px 1px 2px rgba(0, 0, 0, 0.3));\n",
              "      fill: #FFFFFF;\n",
              "    }\n",
              "  </style>\n",
              "\n",
              "      <script>\n",
              "        const buttonEl =\n",
              "          document.querySelector('#df-f7ad79d5-f08d-4d53-87b8-47198dda1b1c button.colab-df-convert');\n",
              "        buttonEl.style.display =\n",
              "          google.colab.kernel.accessAllowed ? 'block' : 'none';\n",
              "\n",
              "        async function convertToInteractive(key) {\n",
              "          const element = document.querySelector('#df-f7ad79d5-f08d-4d53-87b8-47198dda1b1c');\n",
              "          const dataTable =\n",
              "            await google.colab.kernel.invokeFunction('convertToInteractive',\n",
              "                                                     [key], {});\n",
              "          if (!dataTable) return;\n",
              "\n",
              "          const docLinkHtml = 'Like what you see? Visit the ' +\n",
              "            '<a target=\"_blank\" href=https://colab.research.google.com/notebooks/data_table.ipynb>data table notebook</a>'\n",
              "            + ' to learn more about interactive tables.';\n",
              "          element.innerHTML = '';\n",
              "          dataTable['output_type'] = 'display_data';\n",
              "          await google.colab.output.renderOutput(dataTable, element);\n",
              "          const docLink = document.createElement('div');\n",
              "          docLink.innerHTML = docLinkHtml;\n",
              "          element.appendChild(docLink);\n",
              "        }\n",
              "      </script>\n",
              "    </div>\n",
              "  </div>\n",
              "  "
            ]
          },
          "metadata": {},
          "execution_count": 8
        }
      ],
      "source": [
        "df_ssm.head(5)"
      ]
    },
    {
      "cell_type": "markdown",
      "metadata": {
        "id": "XA_16jIuNd8R"
      },
      "source": [
        "### Data Pre-Processing of Structural Dataset\n"
      ]
    },
    {
      "cell_type": "code",
      "execution_count": 9,
      "metadata": {
        "id": "lKKV80p59Yqb"
      },
      "outputs": [],
      "source": [
        "def PrePro(last_column, dataframe):\n",
        "  dataframe.rename(columns = {last_column :'is_code_smell'}, inplace = True) #rename column\n",
        "  dataframe['is_code_smell'] = dataframe[\"is_code_smell\"].astype(int) #change boolean labels to int labels\n",
        "  Y_part = dataframe.iloc[:,-1:]\n",
        "  X_part = dataframe.iloc[:,:56]\n",
        "  X_part = X_part.replace(to_replace =[\"?\"], value = np.nan) #replace non existing values with null\n",
        "  X_part = X_part.astype(float) #change datatype of features of X as float\n",
        "  return X_part,Y_part\n",
        "\n",
        "X_lp, Y_lp = PrePro('is_long_parameters_list',df_lp)\n",
        "X_ss, Y_ss = PrePro('is_switch_statements',df_ss)\n",
        "\n",
        "# X_m, Y_m = PrePro(df_multilabel)"
      ]
    },
    {
      "cell_type": "code",
      "execution_count": 10,
      "metadata": {
        "id": "gP2KF37rO06u"
      },
      "outputs": [],
      "source": [
        "def MeanforNaN(dataframe):   #function to fill null spaces with column mean \n",
        "  column_means = dataframe.mean()\n",
        "  dataframe = dataframe.fillna(column_means)\n",
        "  return dataframe\n",
        "\n",
        "X_lp = MeanforNaN(X_lp)\n",
        "X_ss = MeanforNaN(X_ss)"
      ]
    },
    {
      "cell_type": "code",
      "execution_count": 11,
      "metadata": {
        "id": "xgrWdh3GSoPT"
      },
      "outputs": [],
      "source": [
        "def ConCat(df1,df2): #concatenate code smell datasets\n",
        "  code_smells = [df1,df2]\n",
        "  joint = pd.concat(code_smells)\n",
        "  return joint\n",
        "\n",
        "X_train = ConCat(X_lp,X_ss)\n",
        "Y_train = ConCat(Y_lp,Y_ss)"
      ]
    },
    {
      "cell_type": "markdown",
      "metadata": {
        "id": "t0aP6KSybckZ"
      },
      "source": [
        "###Data Normalization"
      ]
    },
    {
      "cell_type": "code",
      "execution_count": 12,
      "metadata": {
        "id": "EfPBvzbGQWaQ"
      },
      "outputs": [],
      "source": [
        "def Normalize(dataframe): #apply MinMax normalisation to fit the values between 0 to 1\n",
        "  scaler = MinMaxScaler()\n",
        "  model = scaler.fit(dataframe)\n",
        "  scaled_data = model.transform(dataframe)\n",
        "  return scaled_data\n",
        "\n",
        "# X_m_sample = Normalize(X_m)\n",
        "X_sample = Normalize(X_train)"
      ]
    },
    {
      "cell_type": "markdown",
      "metadata": {
        "id": "LE1hY2iuaGYi"
      },
      "source": [
        "###Synthetic Minority Oversampling Technique (SMOTE) Algo for Imbalanced Datasets\n"
      ]
    },
    {
      "cell_type": "code",
      "execution_count": 13,
      "metadata": {
        "id": "YglrDQrabJgC",
        "colab": {
          "base_uri": "https://localhost:8080/"
        },
        "outputId": "950ef178-7d53-445c-c2bf-8de30f49b52a"
      },
      "outputs": [
        {
          "output_type": "execute_result",
          "data": {
            "text/plain": [
              "is_code_smell\n",
              "0                573\n",
              "1                267\n",
              "dtype: int64"
            ]
          },
          "metadata": {},
          "execution_count": 13
        }
      ],
      "source": [
        "Y_train.value_counts() #1/3rd are smelly, 2/3rd are non smelly "
      ]
    },
    {
      "cell_type": "code",
      "execution_count": 14,
      "metadata": {
        "id": "_KsXn_i2eGbv"
      },
      "outputs": [],
      "source": [
        "Y_sample = Y_train.to_numpy(dtype='int64', copy='True')"
      ]
    },
    {
      "cell_type": "code",
      "execution_count": 15,
      "metadata": {
        "id": "x1aLZXEIX-b5"
      },
      "outputs": [],
      "source": [
        "def Oversample(X_data,Y_data): # Using Smote obtain a 50-50 balanced dataset \n",
        "\n",
        "  sm = SMOTE(random_state = 2)\n",
        "  X_train_res, Y_train_res = sm.fit_resample(X_data, Y_data.ravel())\n",
        "  return X_train_res, Y_train_res\n",
        "\n",
        "X_new, Y_new = Oversample(X_sample,Y_sample)"
      ]
    },
    {
      "cell_type": "code",
      "execution_count": 16,
      "metadata": {
        "id": "6gRFjBvmsIny"
      },
      "outputs": [],
      "source": [
        "X_train_final = X_new.reshape((1146,56,1)) # hence makes 573 smelly and 573 non smelly samples"
      ]
    },
    {
      "cell_type": "code",
      "source": [
        "# X_struct = pd.DataFrame(X_new)"
      ],
      "metadata": {
        "id": "n8ApcpyOrMTj"
      },
      "execution_count": 17,
      "outputs": []
    },
    {
      "cell_type": "code",
      "source": [
        "Y_train_final = Y_new.reshape(1146,)"
      ],
      "metadata": {
        "id": "EjmEdUQi0WUt"
      },
      "execution_count": 18,
      "outputs": []
    },
    {
      "cell_type": "markdown",
      "metadata": {
        "id": "qHXOnyz-bhD6"
      },
      "source": [
        "###Word Embeddings using Gensim Word2Vec"
      ]
    },
    {
      "cell_type": "code",
      "execution_count": 19,
      "metadata": {
        "id": "KtlM8YM_WDxH"
      },
      "outputs": [],
      "source": [
        "# def WordEmbedding(tokenizedwords): #creates a dictionary with unique vocab words and corresponding vectors \n",
        "#   model = Word2Vec(tokenizedwords, min_count=1, sg=1, size=50) #skipgram model \n",
        "#   model.train(tokenizedwords, total_examples=model.corpus_count, epochs=10)\n",
        "#   keys = list(model.wv.vocab.keys())\n",
        "#   values = list(model.wv.vectors)\n",
        "#   wdict = {}\n",
        "#   for i in range(840):\n",
        "#     wdict[keys[i]] = values[i]\n",
        "#   return wdict\n",
        "\n",
        "# word_vec = WordEmbedding(word_groups) #this dictionary contains the key as word and value as the vector"
      ]
    },
    {
      "cell_type": "code",
      "execution_count": 20,
      "metadata": {
        "id": "PlrnqEhZtM2t"
      },
      "outputs": [],
      "source": [
        "# def VectorRep(groupofwords,dictionary): #gives a list of list which contains vectors for each word \n",
        "#   rep=[]\n",
        "#   for i in groupofwords:\n",
        "#     l=[]\n",
        "#     for j in i:\n",
        "#       l.append(dictionary.get(j))\n",
        "#     rep.append(l)\n",
        "#   return rep\n",
        "\n",
        "# vector_rep = VectorRep(word_groups, word_vec)"
      ]
    },
    {
      "cell_type": "code",
      "execution_count": 21,
      "metadata": {
        "id": "_jdzgI9y7VMq"
      },
      "outputs": [],
      "source": [
        "# def AvgLength(vectorrepresentation):\n",
        "#   sum = 0\n",
        "#   for i in range(840):\n",
        "#     sum += len(vectorrepresentation[i])\n",
        "#   avg = sum/840\n",
        "#   return avg\n",
        "\n",
        "# AvgLength(vector_rep)"
      ]
    },
    {
      "cell_type": "code",
      "execution_count": 22,
      "metadata": {
        "id": "_zR3Tt4ZEHDL"
      },
      "outputs": [],
      "source": [
        "# def FindMaxLength(lst):\n",
        "#     maxList = max((x) for x in lst)\n",
        "#     maxLength = max(len(x) for x in lst )\n",
        "  \n",
        "#     return maxList, maxLength\n",
        "      \n",
        "# print(FindMaxLength(word_groups))"
      ]
    },
    {
      "cell_type": "code",
      "execution_count": 23,
      "metadata": {
        "id": "A54MLD0B5Xie"
      },
      "outputs": [],
      "source": [
        "# x = np.zeros(50)\n",
        "# print(x)\n",
        "# type(x)\n",
        "# m = x.tolist()\n",
        "# type(m)"
      ]
    },
    {
      "cell_type": "code",
      "execution_count": 24,
      "metadata": {
        "id": "s76Gc7sF5jsy"
      },
      "outputs": [],
      "source": [
        "# tensor1 = tf.zeros(4,4)\n",
        "# print(tensor1)"
      ]
    },
    {
      "cell_type": "code",
      "execution_count": 25,
      "metadata": {
        "id": "lJIfREQL1YJ4"
      },
      "outputs": [],
      "source": [
        "# tensor = tf.convert_to_tensor(vector_rep[0]) \n",
        "# print(tensor.shape)"
      ]
    },
    {
      "cell_type": "code",
      "execution_count": 26,
      "metadata": {
        "id": "jDY-SAEW08P_"
      },
      "outputs": [],
      "source": [
        "# type(vector_rep)"
      ]
    },
    {
      "cell_type": "markdown",
      "source": [
        "###Text Pre Processing"
      ],
      "metadata": {
        "id": "zrt9DdUVG5kj"
      }
    },
    {
      "cell_type": "code",
      "execution_count": 27,
      "metadata": {
        "id": "9j75IG30zamu"
      },
      "outputs": [],
      "source": [
        "# df_sem = ConCat(df_lpm,df_ssm) #join long parameters list and switch statements dataset"
      ]
    },
    {
      "cell_type": "code",
      "execution_count": 28,
      "metadata": {
        "id": "UVAPhdzcXfCw"
      },
      "outputs": [],
      "source": [
        "def PrePro2(dataframe):\n",
        "  X_part = dataframe.iloc[:,:-1]  \n",
        "  return X_part\n",
        "\n",
        "X_sem= PrePro2(df_semantic) #separate as X and Y columns"
      ]
    },
    {
      "cell_type": "code",
      "execution_count": 29,
      "metadata": {
        "id": "6nY8I1fvotZq"
      },
      "outputs": [],
      "source": [
        "def ToList(dataframe, string): #converts pandas.core.series.Series to list of lists\n",
        "  new_column = dataframe[string].tolist()\n",
        "  return list(map(lambda x:[x], new_column))\n",
        "\n",
        "class_words = ToList(X_sem, 'class')\n",
        "method_words = ToList(X_sem, 'method')"
      ]
    },
    {
      "cell_type": "markdown",
      "source": [
        "###Tokenization"
      ],
      "metadata": {
        "id": "C2R_t5qPz2B4"
      }
    },
    {
      "cell_type": "code",
      "execution_count": 30,
      "metadata": {
        "id": "xNotzFqUZzjH"
      },
      "outputs": [],
      "source": [
        "def TokenizeGroups(text): #tokenizes as per CamelCase RegEx and converts to lowercase\n",
        "  tokenizer = RegexpTokenizer('[a-zA-Z](?:[a-z]+|[A-Z]*(?=[A-Z]|$))') # RegEx pattern for CamelCase \n",
        "  useful_text = tokenizer.tokenize(text) \n",
        "  useful_text = [x.lower() for x in useful_text]\n",
        "  return useful_text"
      ]
    },
    {
      "cell_type": "code",
      "execution_count": 31,
      "metadata": {
        "id": "l-UABH5DsTqd"
      },
      "outputs": [],
      "source": [
        "def LoopOver(list): #loops over all the samples to tokenize all the strings in each word group\n",
        "  for i in range(0,1146):\n",
        "    list[i] = TokenizeGroups(list[i][0])\n",
        "    i=i+1\n",
        "  return list\n",
        "\n",
        "class_words_sem = LoopOver(class_words)\n",
        "method_words_sem = LoopOver(method_words)"
      ]
    },
    {
      "cell_type": "code",
      "execution_count": 32,
      "metadata": {
        "id": "81zpWdFD_PY3"
      },
      "outputs": [],
      "source": [
        "def WordList(list1,list2): #concatenate the words of each project, package, class and method\n",
        "  final_list = []\n",
        "  for i in range(0,1146):\n",
        "    x = list1[i] + list2[i]\n",
        "    final_list.append(x)\n",
        "  res = [' '.join(ele) for ele in final_list]\n",
        "  return res\n",
        "\n",
        "word_groups = WordList(class_words_sem, method_words_sem)"
      ]
    },
    {
      "cell_type": "code",
      "source": [
        "# def Sentences(group_of_words): #makes a list of lists containing sentences for each single sample \n",
        "#   lst = []\n",
        "#   for i in range(0,1146):\n",
        "#     appendlist = []\n",
        "#     string = group_of_words[i]\n",
        "#     appendstr = ' '.join(string)\n",
        "#     appendlist.append(appendstr)\n",
        "#     lst.append(appendlist)\n",
        "#   return lst\n",
        "\n",
        "# sentence_groups = Sentences(word_groups)"
      ],
      "metadata": {
        "id": "UKQKTlZQda2-"
      },
      "execution_count": 33,
      "outputs": []
    },
    {
      "cell_type": "code",
      "source": [
        "token = Tokenizer()\n",
        "token.fit_on_texts(word_groups)\n",
        "vocab_size = len(token.word_index) + 1\n",
        "print(vocab_size)"
      ],
      "metadata": {
        "id": "7j0n1y6NeMHa",
        "colab": {
          "base_uri": "https://localhost:8080/"
        },
        "outputId": "d3708009-ecf5-454c-93ee-8fd083308408"
      },
      "execution_count": 34,
      "outputs": [
        {
          "output_type": "stream",
          "name": "stdout",
          "text": [
            "1300\n"
          ]
        }
      ]
    },
    {
      "cell_type": "code",
      "source": [
        "encoded_text = token.texts_to_sequences(word_groups)"
      ],
      "metadata": {
        "id": "Rx4baFvAfIX9"
      },
      "execution_count": 35,
      "outputs": []
    },
    {
      "cell_type": "code",
      "source": [
        "max_length = 176\n",
        "X = pad_sequences(encoded_text, maxlen = max_length, padding = 'pre')\n",
        "print(X)"
      ],
      "metadata": {
        "id": "1MFdzBoevOnv",
        "colab": {
          "base_uri": "https://localhost:8080/"
        },
        "outputId": "07d9e43b-0afe-4a86-f69e-001e31758ea6"
      },
      "execution_count": 36,
      "outputs": [
        {
          "output_type": "stream",
          "name": "stdout",
          "text": [
            "[[  0   0   0 ... 841  12 239]\n",
            " [  0   0   0 ... 511  46 165]\n",
            " [  0   0   0 ...  51 166 106]\n",
            " ...\n",
            " [  0   0   0 ...   1   1   1]\n",
            " [  0   0   0 ...   1   1   2]\n",
            " [  0   0   0 ...   2   2   2]]\n"
          ]
        }
      ]
    },
    {
      "cell_type": "code",
      "source": [
        "# token.word_index.items()"
      ],
      "metadata": {
        "id": "rpPGsC_cOGLt"
      },
      "execution_count": 37,
      "outputs": []
    },
    {
      "cell_type": "code",
      "source": [
        "# X.shape"
      ],
      "metadata": {
        "id": "OzhEZLPqw9Dk"
      },
      "execution_count": 38,
      "outputs": []
    },
    {
      "cell_type": "markdown",
      "source": [
        "###Glove Vectors"
      ],
      "metadata": {
        "id": "yJKcPwvvxGiE"
      }
    },
    {
      "cell_type": "code",
      "source": [
        "# import gensim.downloader as api\n",
        "# glove_gensim  = api.load('glove-wiki-gigaword-100') #100 dimension"
      ],
      "metadata": {
        "id": "oBj-JUIlJyWb"
      },
      "execution_count": 39,
      "outputs": []
    },
    {
      "cell_type": "code",
      "source": [
        "# vector_size = 100 \n",
        "# gensim_weight_matrix = np.zeros(( vocab_size ,vector_size)) \n",
        "# gensim_weight_matrix.shape"
      ],
      "metadata": {
        "id": "FiIMuMuMK2Iw"
      },
      "execution_count": 40,
      "outputs": []
    },
    {
      "cell_type": "code",
      "source": [
        "# for word, index in token.word_index.items():\n",
        "#     if index < vocab_size: \n",
        "#         if word in glove_gensim.wv.vocab:\n",
        "#             gensim_weight_matrix[index] = glove_gensim[word]\n",
        "#         else:\n",
        "#             gensim_weight_matrix[index] = np.zeros(100)"
      ],
      "metadata": {
        "id": "Rv-vxoeALV7w"
      },
      "execution_count": 41,
      "outputs": []
    },
    {
      "cell_type": "markdown",
      "source": [
        ""
      ],
      "metadata": {
        "id": "TlANs4-f7TNA"
      }
    },
    {
      "cell_type": "markdown",
      "metadata": {
        "id": "g04W7nK0nrK5"
      },
      "source": [
        "###Stratified K-Fold Cross Validation for Limited Data\n"
      ]
    },
    {
      "cell_type": "code",
      "execution_count": 42,
      "metadata": {
        "id": "5Vh34GxGoRlw"
      },
      "outputs": [],
      "source": [
        "# def CrossValidation(dataX,dataY): #split the dataset into train and test using k-5 fold cross validation\n",
        "#   skf = StratifiedKFold(n_splits=5, random_state = None, shuffle=True) \n",
        "\n",
        "#   for train_index, test_index in skf.split(dataX , dataY):\n",
        "#         X_crosstrain, X_crosstest = dataX[train_index], dataX[test_index] \n",
        "#         Y_crosstrain, Y_crosstest = dataY[train_index], dataY[test_index]\n",
        "#         return X_crosstrain,X_crosstest,Y_crosstrain,Y_crosstest\n",
        "\n",
        "# X_crosstrain,X_crosstest,Y_crosstrain,Y_crosstest = CrossValidation(X_train_final, Y_train_final)"
      ]
    },
    {
      "cell_type": "markdown",
      "source": [
        "### Model 1 - Machine Learning Pipeline of Feature Union with RF Classifier, TF-IDF, GridSearchCV"
      ],
      "metadata": {
        "id": "GDejXefWJLZn"
      }
    },
    {
      "cell_type": "code",
      "source": [
        "# X_final = pd.concat([X_struct, word_groups], axis=1) # combining the structural and semantic data\n",
        "# X_ml_final = X_final.to_numpy() # converting df into numpy array"
      ],
      "metadata": {
        "id": "aZ1v0t-aMqS6"
      },
      "execution_count": 43,
      "outputs": []
    },
    {
      "cell_type": "code",
      "source": [
        "# def CrossValidation(dataX,dataY): #split the dataset into train and test using k-5 fold cross validation\n",
        "#   skf = StratifiedKFold(n_splits=5, random_state = None, shuffle=True) \n",
        "\n",
        "#   for train_index, test_index in skf.split(dataX , dataY):\n",
        "#         X_crosstrain, X_crosstest = dataX[train_index], dataX[test_index] \n",
        "#         Y_crosstrain, Y_crosstest = dataY[train_index], dataY[test_index]\n",
        "#         return X_crosstrain,X_crosstest,Y_crosstrain,Y_crosstest\n",
        "\n",
        "# X_crosstrain,X_crosstest,Y_crosstrain,Y_crosstest = CrossValidation(X_ml_final, Y_train_final)"
      ],
      "metadata": {
        "id": "Pr3lC7Ev6uIy"
      },
      "execution_count": 44,
      "outputs": []
    },
    {
      "cell_type": "code",
      "source": [
        "# def get_numeric_data(x):\n",
        "#     return [record[:-2].astype(float) for record in x] #gets the numeric data which is all the columns except last column\n",
        "\n",
        "# def get_text_data(x):\n",
        "#     return [record[-1] for record in x] # gets the text data which is the last column of the dataset\n",
        "\n",
        "# transformer_numeric = FunctionTransformer(get_numeric_data) #transformer_numeric when transformed on some X will apply get_numeric_data on X\n",
        "# transformer_text = FunctionTransformer(get_text_data)"
      ],
      "metadata": {
        "id": "j4qqn1RCNPMK"
      },
      "execution_count": 45,
      "outputs": []
    },
    {
      "cell_type": "code",
      "source": [
        "# pipeline = Pipeline([\n",
        "#     ('features', FeatureUnion([\n",
        "#             ('numeric_features', Pipeline([\n",
        "#                 ('selector', transformer_numeric)\n",
        "#             ])),\n",
        "#              ('text_features', Pipeline([\n",
        "#                 ('selector', transformer_text),\n",
        "#                 ('vec', TfidfVectorizer(analyzer='word'))\n",
        "#             ]))\n",
        "#          ])),\n",
        "#     ('clf', RandomForestClassifier())\n",
        "# ])\n",
        "\n",
        "# param_grid = {'clf__n_estimators': np.linspace(1, 100, 42, dtype=int),\n",
        "#               'clf__min_samples_split': [2],\n",
        "#               'clf__min_samples_leaf': [1],\n",
        "#               'clf__max_features': [8],\n",
        "#               'clf__max_depth': [None],\n",
        "#               'clf__criterion': ['entropy'],\n",
        "#               'clf__bootstrap': [False]}\n",
        "\n",
        "# scoring = {'Accuracy': 'accuracy', 'F1': 'f1_macro'}\n",
        "# refit = 'F1'"
      ],
      "metadata": {
        "id": "NArhOz7HQuPi"
      },
      "execution_count": 46,
      "outputs": []
    },
    {
      "cell_type": "code",
      "source": [
        "# def ML_codesmell(X_tr, Y_tr, X_ts, Y_ts):\n",
        "#   rf_model = GridSearchCV(pipeline, param_grid=param_grid, scoring=scoring,refit=refit, n_jobs=-1, return_train_score=True, verbose=1)\n",
        "#   rf_model.fit(X_tr, Y_tr)\n",
        "#   model_score = rf_model.score(X_ts, Y_ts)\n",
        "#   y_pred_test = rf_model.predict(X_ts)\n",
        "#   accuracy = accuracy_score(Y_ts, y_pred_test)\n",
        "#   classification = classification_report(Y_ts, y_pred_test)\n",
        "#   return model_score, accuracy, classification\n",
        "\n",
        "# model_score, accuracy_score, classification_report = ML_codesmell(X_crosstrain, Y_crosstrain, X_crosstest, Y_crosstest)"
      ],
      "metadata": {
        "id": "fDAWwzNlSb48"
      },
      "execution_count": 47,
      "outputs": []
    },
    {
      "cell_type": "code",
      "source": [
        "# print(\"Model Score : \", model_score)\n",
        "# print(\"Accuracy Score : \", accuracy_score)\n",
        "# print(\"Classification Report : \", classification_report)"
      ],
      "metadata": {
        "id": "EYNYJbYOUgBm"
      },
      "execution_count": 48,
      "outputs": []
    },
    {
      "cell_type": "markdown",
      "source": [
        "### Model 2 - Multimodal of CNN & BiLSTM"
      ],
      "metadata": {
        "id": "U2ey9Npf2t1I"
      }
    },
    {
      "cell_type": "code",
      "source": [
        "# height, width, depth = 1146, 56, 1\n",
        "# input_shape=(width,depth)\n",
        "# input_struct = Input(shape=input_shape)\n",
        "# layer_1 = Convolution1D(filters=32, kernel_size=3, activation='relu')(input_struct)\n",
        "# layer_2 = Convolution1D(filters=64, kernel_size=3, activation='relu')(layer_1)\n",
        "# layer_3 = Convolution1D(filters=64, kernel_size=3, activation='relu')(layer_2)\n",
        "# flatten_cnn = Flatten()(layer_3)\n",
        "\n",
        "# model_left = Model(input_struct, flatten_cnn)\n",
        "# #dense_cnn = Dense(500, activation='relu')(flatten)"
      ],
      "metadata": {
        "id": "SCynMVhua_dh"
      },
      "execution_count": null,
      "outputs": []
    },
    {
      "cell_type": "code",
      "source": [
        "# EMBEDDING_DIM = 100\n",
        "# input_sem = Input(shape=(176))\n",
        "# embedding_layer = Embedding(input_dim = vocab_size, output_dim = EMBEDDING_DIM, input_length= X.shape[1],\n",
        "#                     weights = [gensim_weight_matrix],trainable = False)(input_sem)\n",
        "# layer_1 = Bidirectional(LSTM(100,return_sequences=True))(embedding_layer)\n",
        "# layer_2 = Bidirectional(LSTM(200,return_sequences=True))(layer_1)\n",
        "# layer_3 = Bidirectional(LSTM(100,return_sequences=False))(layer_2)\n",
        "# flatten_bilstm = Flatten()(layer_3)\n",
        "\n",
        "# model_right = Model(input_sem, flatten_bilstm)\n",
        "# #dense_bilstm = Dense(500, activation='relu')(layer_3)"
      ],
      "metadata": {
        "id": "5kqwFJpJHmON"
      },
      "execution_count": null,
      "outputs": []
    },
    {
      "cell_type": "code",
      "source": [
        "# merge_layer = concatenate([flatten_cnn, flatten_bilstm])\n",
        "# dense_1 = Dense(500, activation='relu')(merge_layer)\n",
        "# dense_2 = Dense(100, activation='relu')(dense_1)\n",
        "# dense3 = Dense(20, activation='relu')(dense_2)\n",
        "# dense_final = Dense(1, activation='sigmoid')(dense3)"
      ],
      "metadata": {
        "id": "V5_XmhRteXIR"
      },
      "execution_count": null,
      "outputs": []
    },
    {
      "cell_type": "code",
      "source": [
        "# merged_model = Model([input_struct, input_sem], dense_final)"
      ],
      "metadata": {
        "id": "0Ih7uQ-Tp7tH"
      },
      "execution_count": null,
      "outputs": []
    },
    {
      "cell_type": "code",
      "source": [
        "# merged_model.compile(loss='binary_crossentropy', optimizer='adam', metrics=['accuracy'])"
      ],
      "metadata": {
        "id": "8UJ2cn5pqV-E"
      },
      "execution_count": null,
      "outputs": []
    },
    {
      "cell_type": "code",
      "source": [
        "# merged_model.fit([X_train_final, X], y=Y_train_final, batch_size=100, epochs=10, validation_split = 0.2)"
      ],
      "metadata": {
        "id": "OXRwz2vgqL_h"
      },
      "execution_count": null,
      "outputs": []
    },
    {
      "cell_type": "code",
      "source": [
        "# input_sem = Input(shape=(1,))\n",
        "# embedding = embedding_layer(input_sem)\n",
        "# bilstm1 = Bidirectional(CuDNNLSTM(100,return_sequences=True))(embedding)\n",
        "# bilstm2 = Bidirectional(CuDNNLSTM(200,return_sequences=True))(bilstm1)\n",
        "# bilstm3 = Bidirectional(CuDNNLSTM(200,return_sequences=True))(bilstm2)\n",
        "# bilstm4 = Bidirectional(CuDNNLSTM(100,return_sequences=False))(bilstm3)\n",
        "\n",
        "# model_right.add(Embedding(input_dim = vocab_size, output_dim = EMBEDDING_DIM, input_length= X.shape[1],\n",
        "#                     weights = [gensim_weight_matrix],trainable = False))\n",
        "# model_right.add(Bidirectional(CuDNNLSTM(100,return_sequences=True)))\n",
        "# model_right.add(Bidirectional(CuDNNLSTM(200,return_sequences=True)))\n",
        "# model_right.add(Bidirectional(CuDNNLSTM(200,return_sequences=True)))\n",
        "# model_right.add(Bidirectional(CuDNNLSTM(100,return_sequences=False)))\n",
        "# model_right.add(Flatten())"
      ],
      "metadata": {
        "id": "X4Q_XtiNFg5V"
      },
      "execution_count": null,
      "outputs": []
    },
    {
      "cell_type": "code",
      "source": [
        "# model_left = Sequential()\n",
        "# model_left.add(Convolution1D(filters=32, kernel_size=3, activation='relu', input_shape=(56,1)))\n",
        "# model_left.add(Convolution1D(filters=64, kernel_size=3, activation='relu'))\n",
        "# model_left.add(Convolution1D(filters=64, kernel_size=3, activation='relu'))\n",
        "# model_left.add(Flatten())"
      ],
      "metadata": {
        "id": "ER2jBQw3FpNG"
      },
      "execution_count": null,
      "outputs": []
    },
    {
      "cell_type": "markdown",
      "source": [
        "### Model 3 - distilBERT pretrained + CNN"
      ],
      "metadata": {
        "id": "aKT7-wg_Kte3"
      }
    },
    {
      "cell_type": "code",
      "source": [
        "max = 0\n",
        "for ele in word_groups:\n",
        "  res = len(ele.split())\n",
        "  if res > max:\n",
        "    max = res\n",
        "\n",
        "print(max)"
      ],
      "metadata": {
        "colab": {
          "base_uri": "https://localhost:8080/"
        },
        "id": "Qw2sSLlhwfiy",
        "outputId": "7dd01164-0a7e-4ac4-9e18-8f48268513b6"
      },
      "execution_count": 49,
      "outputs": [
        {
          "output_type": "stream",
          "name": "stdout",
          "text": [
            "28\n"
          ]
        }
      ]
    },
    {
      "cell_type": "code",
      "source": [
        "params = {'MAX_LENGTH': 30,\n",
        "          'EPOCHS': 50,\n",
        "          'LEARNING_RATE': 5e-5,\n",
        "          'FT_EPOCHS': 5,\n",
        "          'OPTIMIZER': 'adam',\n",
        "          'FT_LEARNING_RATE': 2e-5,\n",
        "          'BATCH_SIZE': 64,\n",
        "          'NUM_STEPS': len(X_train.index) // 64,\n",
        "          'DISTILBERT_DROPOUT': 0.2,\n",
        "          'DISTILBERT_ATT_DROPOUT': 0.2,\n",
        "          'LAYER_DROPOUT': 0.2,\n",
        "          'KERNEL_INITIALIZER': 'GlorotNormal',\n",
        "          'BIAS_INITIALIZER': 'zeros',\n",
        "          'POS_PROBA_THRESHOLD': 0.5,          \n",
        "          'ADDED_LAYERS': 'Dense 256, Dense 32, Dropout 0.2',\n",
        "          'LR_SCHEDULE': '5e-5 for 6 epochs, Fine-tune w/ adam for 6 epochs @2e-5',\n",
        "          'FREEZING': 'All DistilBERT layers frozen for 6 epochs, then unfrozen for 6',\n",
        "          'CALLBACKS': '[early_stopping monitoring val_loss w/ patience=0]',\n",
        "          'RANDOM_STATE':42\n",
        "          }"
      ],
      "metadata": {
        "id": "GwKXFS1oYupY"
      },
      "execution_count": 110,
      "outputs": []
    },
    {
      "cell_type": "code",
      "source": [
        "def batch_encode(tokenizer, texts, batch_size=191, max_length=params['MAX_LENGTH']):\n",
        "    input_ids = []\n",
        "    attention_mask = []\n",
        "    \n",
        "    for i in range(0, len(texts), batch_size):\n",
        "        batch = texts[i:i+batch_size]\n",
        "        inputs = tokenizer.batch_encode_plus(batch,\n",
        "                                             max_length=max_length,\n",
        "                                             padding='longest',\n",
        "                                             truncation=True,\n",
        "                                             return_attention_mask=True,\n",
        "                                             return_token_type_ids=False\n",
        "                                             )\n",
        "        input_ids.extend(inputs['input_ids'])\n",
        "        attention_mask.extend(inputs['attention_mask'])\n",
        "    \n",
        "    \n",
        "    return tf.convert_to_tensor(input_ids), tf.convert_to_tensor(attention_mask)"
      ],
      "metadata": {
        "id": "zVm8IMXJUiIS"
      },
      "execution_count": 111,
      "outputs": []
    },
    {
      "cell_type": "code",
      "source": [
        "tokenizer = DistilBertTokenizerFast.from_pretrained('distilbert-base-uncased')"
      ],
      "metadata": {
        "id": "uywThKZaUFlq"
      },
      "execution_count": 113,
      "outputs": []
    },
    {
      "cell_type": "code",
      "source": [
        "X_train_ids, X_train_attention = batch_encode(tokenizer, word_groups)"
      ],
      "metadata": {
        "id": "58seXOaaVs8w"
      },
      "execution_count": 114,
      "outputs": []
    },
    {
      "cell_type": "code",
      "source": [
        "X_train_ids"
      ],
      "metadata": {
        "colab": {
          "base_uri": "https://localhost:8080/"
        },
        "id": "zJ86hfiW4mfA",
        "outputId": "dbd4c922-9e4d-491a-867e-4bb772837a2b"
      },
      "execution_count": 115,
      "outputs": [
        {
          "output_type": "execute_result",
          "data": {
            "text/plain": [
              "<tf.Tensor: shape=(1146, 30), dtype=int32, numpy=\n",
              "array([[  101, 14764,  8103, ...,     0,     0,     0],\n",
              "       [  101,  2568,  4949, ...,     0,     0,     0],\n",
              "       [  101,  2568,  4949, ...,     0,     0,     0],\n",
              "       ...,\n",
              "       [  101,  4026,  2131, ...,     0,     0,     0],\n",
              "       [  101,  4026,  2131, ...,     0,     0,     0],\n",
              "       [  101,  4026,  2131, ...,     0,     0,     0]], dtype=int32)>"
            ]
          },
          "metadata": {},
          "execution_count": 115
        }
      ]
    },
    {
      "cell_type": "code",
      "source": [
        "distilBERT = TFDistilBertModel.from_pretrained('distilbert-base-uncased', output_hidden_states = True)"
      ],
      "metadata": {
        "colab": {
          "base_uri": "https://localhost:8080/"
        },
        "id": "Vh7N__yYYe_P",
        "outputId": "6f9ead67-f044-4b1c-e361-c81f6a1453c5"
      },
      "execution_count": 116,
      "outputs": [
        {
          "output_type": "stream",
          "name": "stderr",
          "text": [
            "Some layers from the model checkpoint at distilbert-base-uncased were not used when initializing TFDistilBertModel: ['activation_13', 'vocab_projector', 'vocab_transform', 'vocab_layer_norm']\n",
            "- This IS expected if you are initializing TFDistilBertModel from the checkpoint of a model trained on another task or with another architecture (e.g. initializing a BertForSequenceClassification model from a BertForPreTraining model).\n",
            "- This IS NOT expected if you are initializing TFDistilBertModel from the checkpoint of a model that you expect to be exactly identical (initializing a BertForSequenceClassification model from a BertForSequenceClassification model).\n",
            "All the layers of TFDistilBertModel were initialized from the model checkpoint at distilbert-base-uncased.\n",
            "If your task is similar to the task the model of the checkpoint was trained on, you can already use TFDistilBertModel for predictions without further training.\n"
          ]
        }
      ]
    },
    {
      "cell_type": "code",
      "source": [
        "for layer in distilBERT.layers:\n",
        "    layer.trainable = False"
      ],
      "metadata": {
        "id": "3UPuIdZ_Jn-0"
      },
      "execution_count": 117,
      "outputs": []
    },
    {
      "cell_type": "code",
      "source": [
        "# weight_initializer = tf.keras.initializers.GlorotNormal(seed=params['RANDOM_STATE'])    "
      ],
      "metadata": {
        "id": "4HnJSAH3qIcu"
      },
      "execution_count": 58,
      "outputs": []
    },
    {
      "cell_type": "code",
      "source": [
        "# input_ids_layer = tf.keras.layers.Input(shape=(30,), \n",
        "#                                             name='input_ids', \n",
        "#                                             dtype='int32')"
      ],
      "metadata": {
        "id": "w7AHmQ9hqM2D"
      },
      "execution_count": 59,
      "outputs": []
    },
    {
      "cell_type": "code",
      "source": [
        "# input_ids_layer"
      ],
      "metadata": {
        "id": "Sn0FkvAi4bjx"
      },
      "execution_count": 60,
      "outputs": []
    },
    {
      "cell_type": "code",
      "source": [
        "# input_attention_layer = tf.keras.layers.Input(shape=(30,), \n",
        "#                                                   name='input_attention', \n",
        "#                                                   dtype='int32')"
      ],
      "metadata": {
        "id": "5E0QIu0GqPXA"
      },
      "execution_count": 61,
      "outputs": []
    },
    {
      "cell_type": "code",
      "source": [
        "# input_attention_layer"
      ],
      "metadata": {
        "id": "L7xD8dMb4gDm"
      },
      "execution_count": 62,
      "outputs": []
    },
    {
      "cell_type": "code",
      "source": [
        "output = distilBERT([X_train_ids, X_train_attention])"
      ],
      "metadata": {
        "id": "a-fsWTIxqRsA"
      },
      "execution_count": 118,
      "outputs": []
    },
    {
      "cell_type": "code",
      "source": [
        "hidden_states = output[1]"
      ],
      "metadata": {
        "id": "ufuYlBN3NLNl"
      },
      "execution_count": 119,
      "outputs": []
    },
    {
      "cell_type": "code",
      "source": [
        "tfsentence = []\n",
        "sentence_embeddings = []\n",
        "sentence_emb_arr = []"
      ],
      "metadata": {
        "id": "Ha7oz9_reJFU"
      },
      "execution_count": 120,
      "outputs": []
    },
    {
      "cell_type": "code",
      "source": [
        "for i in range(1146):\n",
        "  tfsentence.append(hidden_states[-2][i])"
      ],
      "metadata": {
        "id": "OM7XzwgXdZpa"
      },
      "execution_count": 121,
      "outputs": []
    },
    {
      "cell_type": "code",
      "source": [
        "for i in range(1146):\n",
        "  samplei = tf.math.reduce_mean(tfsentence[i], axis=0)\n",
        "  sentence_embeddings.append(samplei)"
      ],
      "metadata": {
        "id": "NIvrsbfhLvfE"
      },
      "execution_count": 122,
      "outputs": []
    },
    {
      "cell_type": "code",
      "source": [
        "len(sentence_embeddings)"
      ],
      "metadata": {
        "colab": {
          "base_uri": "https://localhost:8080/"
        },
        "id": "goqxdPY9O3DP",
        "outputId": "6e1820d6-5b4d-4112-bad3-0b50d8404d1f"
      },
      "execution_count": 123,
      "outputs": [
        {
          "output_type": "execute_result",
          "data": {
            "text/plain": [
              "1146"
            ]
          },
          "metadata": {},
          "execution_count": 123
        }
      ]
    },
    {
      "cell_type": "code",
      "source": [
        "for i in range(1146):\n",
        "  storei = sentence_embeddings[i]\n",
        "  storearr = storei.numpy()\n",
        "  sentence_emb_arr.append(storearr)"
      ],
      "metadata": {
        "id": "94plYFJSMP1G"
      },
      "execution_count": 124,
      "outputs": []
    },
    {
      "cell_type": "code",
      "source": [
        "numarr = np.array(sentence_emb_arr)"
      ],
      "metadata": {
        "id": "1chub83ePBKa"
      },
      "execution_count": 125,
      "outputs": []
    },
    {
      "cell_type": "code",
      "source": [
        "numarr.shape"
      ],
      "metadata": {
        "colab": {
          "base_uri": "https://localhost:8080/"
        },
        "id": "gf9a49G_QLvt",
        "outputId": "027a6593-9dcb-4dc9-ca4c-b51c42fc9bca"
      },
      "execution_count": 126,
      "outputs": [
        {
          "output_type": "execute_result",
          "data": {
            "text/plain": [
              "(1146, 768)"
            ]
          },
          "metadata": {},
          "execution_count": 126
        }
      ]
    },
    {
      "cell_type": "code",
      "source": [
        "concat = np.concatenate((numarr, X_new), axis=1)"
      ],
      "metadata": {
        "id": "7fB5R-phQjGO"
      },
      "execution_count": 127,
      "outputs": []
    },
    {
      "cell_type": "code",
      "source": [
        "X_bert = concat.reshape(1146,824,1)"
      ],
      "metadata": {
        "id": "5jznNRAsROY3"
      },
      "execution_count": 128,
      "outputs": []
    },
    {
      "cell_type": "code",
      "source": [
        "from keras.models import Sequential"
      ],
      "metadata": {
        "id": "M5xspG-wXcZ3"
      },
      "execution_count": 130,
      "outputs": []
    },
    {
      "cell_type": "code",
      "source": [
        "model = Sequential()\n",
        "model.add(Convolution1D(filters=32, kernel_size=3, activation='relu', input_shape=(824,1)))\n",
        "model.add(Convolution1D(filters=64, kernel_size=3, activation='relu'))\n",
        "model.add(Convolution1D(filters=64, kernel_size=3, activation='relu'))\n",
        "model.add(Flatten())\n",
        "model.add(Dense(100, activation='relu'))\n",
        "model.add(Dense(50, activation='relu'))\n",
        "model.add(Dense(25, activation='relu'))\n",
        "model.add(Dense(1, activation='sigmoid'))\n",
        "model.summary()"
      ],
      "metadata": {
        "colab": {
          "base_uri": "https://localhost:8080/"
        },
        "id": "PwAFDVH2XUq9",
        "outputId": "8319552a-1394-40e9-c1da-bbc1ed03f8d0"
      },
      "execution_count": 132,
      "outputs": [
        {
          "output_type": "stream",
          "name": "stdout",
          "text": [
            "Model: \"sequential_1\"\n",
            "_________________________________________________________________\n",
            " Layer (type)                Output Shape              Param #   \n",
            "=================================================================\n",
            " conv1d_3 (Conv1D)           (None, 822, 32)           128       \n",
            "                                                                 \n",
            " conv1d_4 (Conv1D)           (None, 820, 64)           6208      \n",
            "                                                                 \n",
            " conv1d_5 (Conv1D)           (None, 818, 64)           12352     \n",
            "                                                                 \n",
            " flatten_1 (Flatten)         (None, 52352)             0         \n",
            "                                                                 \n",
            " dense_4 (Dense)             (None, 100)               5235300   \n",
            "                                                                 \n",
            " dense_5 (Dense)             (None, 50)                5050      \n",
            "                                                                 \n",
            " dense_6 (Dense)             (None, 25)                1275      \n",
            "                                                                 \n",
            " dense_7 (Dense)             (None, 1)                 26        \n",
            "                                                                 \n",
            "=================================================================\n",
            "Total params: 5,260,339\n",
            "Trainable params: 5,260,339\n",
            "Non-trainable params: 0\n",
            "_________________________________________________________________\n"
          ]
        }
      ]
    },
    {
      "cell_type": "code",
      "source": [
        "model.compile(optimizer='adam',loss='binary_crossentropy', metrics=['accuracy'])"
      ],
      "metadata": {
        "id": "3Qzds-FKXkUB"
      },
      "execution_count": 133,
      "outputs": []
    },
    {
      "cell_type": "code",
      "source": [
        "model.fit(X_bert,Y_train_final, batch_size=100, epochs=20, validation_split=0.25)"
      ],
      "metadata": {
        "colab": {
          "base_uri": "https://localhost:8080/"
        },
        "id": "hGSF73rkYWXQ",
        "outputId": "b0453462-7630-4a2e-beec-99bc4bedfa52"
      },
      "execution_count": 136,
      "outputs": [
        {
          "output_type": "stream",
          "name": "stdout",
          "text": [
            "Epoch 1/20\n",
            "9/9 [==============================] - 0s 44ms/step - loss: 0.0259 - accuracy: 0.9895 - val_loss: 0.4451 - val_accuracy: 0.8920\n",
            "Epoch 2/20\n",
            "9/9 [==============================] - 0s 40ms/step - loss: 0.0335 - accuracy: 0.9860 - val_loss: 0.2805 - val_accuracy: 0.9373\n",
            "Epoch 3/20\n",
            "9/9 [==============================] - 0s 33ms/step - loss: 0.0280 - accuracy: 0.9860 - val_loss: 0.3961 - val_accuracy: 0.9129\n",
            "Epoch 4/20\n",
            "9/9 [==============================] - 0s 32ms/step - loss: 0.0342 - accuracy: 0.9884 - val_loss: 0.3480 - val_accuracy: 0.9164\n",
            "Epoch 5/20\n",
            "9/9 [==============================] - 0s 32ms/step - loss: 0.0362 - accuracy: 0.9872 - val_loss: 0.3457 - val_accuracy: 0.9373\n",
            "Epoch 6/20\n",
            "9/9 [==============================] - 0s 32ms/step - loss: 0.0298 - accuracy: 0.9884 - val_loss: 0.3272 - val_accuracy: 0.9303\n",
            "Epoch 7/20\n",
            "9/9 [==============================] - 0s 33ms/step - loss: 0.0259 - accuracy: 0.9907 - val_loss: 0.3456 - val_accuracy: 0.9164\n",
            "Epoch 8/20\n",
            "9/9 [==============================] - 0s 35ms/step - loss: 0.0193 - accuracy: 0.9930 - val_loss: 0.4554 - val_accuracy: 0.9129\n",
            "Epoch 9/20\n",
            "9/9 [==============================] - 0s 32ms/step - loss: 0.0205 - accuracy: 0.9919 - val_loss: 0.5283 - val_accuracy: 0.8815\n",
            "Epoch 10/20\n",
            "9/9 [==============================] - 0s 35ms/step - loss: 0.0388 - accuracy: 0.9872 - val_loss: 0.1976 - val_accuracy: 0.9617\n",
            "Epoch 11/20\n",
            "9/9 [==============================] - 0s 32ms/step - loss: 0.0241 - accuracy: 0.9895 - val_loss: 0.3448 - val_accuracy: 0.9164\n",
            "Epoch 12/20\n",
            "9/9 [==============================] - 0s 35ms/step - loss: 0.0436 - accuracy: 0.9825 - val_loss: 0.6892 - val_accuracy: 0.8676\n",
            "Epoch 13/20\n",
            "9/9 [==============================] - 0s 31ms/step - loss: 0.0320 - accuracy: 0.9895 - val_loss: 0.4810 - val_accuracy: 0.8850\n",
            "Epoch 14/20\n",
            "9/9 [==============================] - 0s 33ms/step - loss: 0.0255 - accuracy: 0.9919 - val_loss: 0.4297 - val_accuracy: 0.9059\n",
            "Epoch 15/20\n",
            "9/9 [==============================] - 0s 36ms/step - loss: 0.0283 - accuracy: 0.9907 - val_loss: 0.3551 - val_accuracy: 0.9199\n",
            "Epoch 16/20\n",
            "9/9 [==============================] - 0s 32ms/step - loss: 0.0368 - accuracy: 0.9860 - val_loss: 0.2517 - val_accuracy: 0.9547\n",
            "Epoch 17/20\n",
            "9/9 [==============================] - 0s 36ms/step - loss: 0.0266 - accuracy: 0.9895 - val_loss: 0.2550 - val_accuracy: 0.9547\n",
            "Epoch 18/20\n",
            "9/9 [==============================] - 0s 32ms/step - loss: 0.0270 - accuracy: 0.9907 - val_loss: 0.3162 - val_accuracy: 0.9233\n",
            "Epoch 19/20\n",
            "9/9 [==============================] - 0s 36ms/step - loss: 0.0252 - accuracy: 0.9872 - val_loss: 0.4405 - val_accuracy: 0.9199\n",
            "Epoch 20/20\n",
            "9/9 [==============================] - 0s 36ms/step - loss: 0.0241 - accuracy: 0.9930 - val_loss: 0.5350 - val_accuracy: 0.8815\n"
          ]
        },
        {
          "output_type": "execute_result",
          "data": {
            "text/plain": [
              "<keras.callbacks.History at 0x7faba8250190>"
            ]
          },
          "metadata": {},
          "execution_count": 136
        }
      ]
    },
    {
      "cell_type": "code",
      "source": [
        "# model.fit(X_crosstrain,Y_crosstrain, batch_size=50, epochs=150)"
      ],
      "metadata": {
        "id": "hDUAODiuXvVv"
      },
      "execution_count": null,
      "outputs": []
    },
    {
      "cell_type": "code",
      "source": [
        "# X1 = tf.keras.layers.Dense(256,\n",
        "#                               activation='relu',\n",
        "#                               kernel_initializer=weight_initializer,\n",
        "#                               bias_initializer='zeros'\n",
        "#                               )(cls_token)"
      ],
      "metadata": {
        "id": "UtVQapj3qiUi"
      },
      "execution_count": null,
      "outputs": []
    },
    {
      "cell_type": "code",
      "source": [
        "# X1"
      ],
      "metadata": {
        "id": "FXcINfJoq6mC"
      },
      "execution_count": null,
      "outputs": []
    },
    {
      "cell_type": "code",
      "source": [
        "# nn_meta = X_new"
      ],
      "metadata": {
        "id": "pIRt1Ceoq1a0"
      },
      "execution_count": null,
      "outputs": []
    },
    {
      "cell_type": "code",
      "source": [
        "# concat = tf.keras.layers.Concatenate(axis=1)([X1,nn_meta])"
      ],
      "metadata": {
        "id": "0s0NxYDeqkxQ"
      },
      "execution_count": null,
      "outputs": []
    },
    {
      "cell_type": "code",
      "source": [
        "# concat"
      ],
      "metadata": {
        "id": "Hi15pA5b4BNE"
      },
      "execution_count": null,
      "outputs": []
    },
    {
      "cell_type": "code",
      "source": [
        "# nn_meta = X_new\n",
        "\n",
        "# def build_model(transformer, max_length=params['MAX_LENGTH']):\n",
        "\n",
        "#     weight_initializer = tf.keras.initializers.GlorotNormal(seed=params['RANDOM_STATE'])    \n",
        "\n",
        "#     input_ids_layer = tf.keras.layers.Input(shape=(max_length,), \n",
        "#                                             name='input_ids', \n",
        "#                                             dtype='int32')\n",
        "    \n",
        "#     input_attention_layer = tf.keras.layers.Input(shape=(max_length,), \n",
        "#                                                   name='input_attention', \n",
        "#                                                   dtype='int32')\n",
        "    \n",
        "#     last_hidden_state = transformer([input_ids_layer, input_attention_layer])[0]\n",
        "    \n",
        "#     cls_token = last_hidden_state[:, 0, :]\n",
        "    \n",
        "#     X1 = tf.keras.layers.Dense(256,\n",
        "#                               activation='relu',\n",
        "#                               kernel_initializer=weight_initializer,\n",
        "#                               bias_initializer='zeros'\n",
        "#                               )(cls_token)\n",
        "    \n",
        "#     concat = tf.keras.layers.Concatenate(axis=1)([X1,nn_meta])\n",
        "    \n",
        "#     X2 = tf.keras.layers.Dense(128,\n",
        "#                               activation='relu',\n",
        "#                               kernel_initializer=weight_initializer,\n",
        "#                               bias_initializer='zeros'\n",
        "#                               )(concat)\n",
        "    \n",
        "#     X3 = tf.keras.layers.Dropout(params['LAYER_DROPOUT'],\n",
        "#                                  seed=params['RANDOM_STATE']\n",
        "#                                 )(X2)\n",
        "\n",
        "#     X4 = tf.keras.layers.Dense(32,\n",
        "#                               activation='relu',\n",
        "#                               kernel_initializer=weight_initializer,\n",
        "#                               bias_initializer='zeros'\n",
        "#                               )(X3)\n",
        "\n",
        "#     output = tf.keras.layers.Dense(1, \n",
        "#                                    activation='sigmoid',\n",
        "#                                    kernel_initializer=weight_initializer,\n",
        "#                                    bias_initializer='zeros'\n",
        "#                                    )(X4)\n",
        "\n",
        "#     model = tf.keras.Model([input_ids_layer, input_attention_layer], output)\n",
        "    \n",
        "#     model.compile(tf.keras.optimizers.Adam(learning_rate=params['LEARNING_RATE']), \n",
        "#                   loss='binary_crossentropy',\n",
        "#                   metrics=['accuracy'])\n",
        "    \n",
        "#     return model"
      ],
      "metadata": {
        "id": "Bb6OA6NpZOTn"
      },
      "execution_count": null,
      "outputs": []
    },
    {
      "cell_type": "code",
      "source": [
        "# model = build_model(distilBERT)"
      ],
      "metadata": {
        "id": "2Z5a2d7LZOy5"
      },
      "execution_count": null,
      "outputs": []
    },
    {
      "cell_type": "code",
      "source": [
        "# from keras import backend as K\n",
        "\n",
        "# def recall_m(y_true, y_pred):\n",
        "#     true_positives = K.sum(K.round(K.clip(y_true * y_pred, 0, 1)))\n",
        "#     possible_positives = K.sum(K.round(K.clip(y_true, 0, 1)))\n",
        "#     recall = true_positives / (possible_positives + K.epsilon())\n",
        "#     return recall\n",
        "\n",
        "# def precision_m(y_true, y_pred):\n",
        "#     true_positives = K.sum(K.round(K.clip(y_true * y_pred, 0, 1)))\n",
        "#     predicted_positives = K.sum(K.round(K.clip(y_pred, 0, 1)))\n",
        "#     precision = true_positives / (predicted_positives + K.epsilon())\n",
        "#     return precision\n",
        "\n",
        "# def f1_m(y_true, y_pred):\n",
        "#     precision = precision_m(y_true, y_pred)\n",
        "#     recall = recall_m(y_true, y_pred)\n",
        "#     return 2*((precision*recall)/(precision+recall+K.epsilon()))"
      ],
      "metadata": {
        "id": "evK5RLMdmCAn"
      },
      "execution_count": null,
      "outputs": []
    },
    {
      "cell_type": "code",
      "source": [
        "# optimizer = tf.keras.optimizers.Adam(learning_rate=params['FT_LEARNING_RATE'])\n",
        "\n",
        "# model.compile(optimizer=optimizer, \n",
        "#               loss='binary_crossentropy',\n",
        "#               metrics=['accuracy', f1_m,precision_m, recall_m])\n",
        "\n",
        "# # early_stopping = tf.keras.callbacks.EarlyStopping(monitor='val_loss',\n",
        "# #                                                   mode='min',\n",
        "# #                                                   min_delta=0,\n",
        "# #                                                   patience=0,\n",
        "# #                                                   restore_best_weights=True)\n",
        "\n",
        "# train_history2 = model.fit(\n",
        "#     x = [X_train_ids, X_train_attention],\n",
        "#     y = Y_train_final,\n",
        "#     epochs = params['FT_EPOCHS'],\n",
        "#     batch_size = params['BATCH_SIZE'],\n",
        "#     steps_per_epoch = params['NUM_STEPS'],\n",
        "#     validation_split = 0.3,\n",
        "#     # callbacks=[early_stopping],\n",
        "# )"
      ],
      "metadata": {
        "id": "jsxUJLS4cwx3"
      },
      "execution_count": null,
      "outputs": []
    },
    {
      "cell_type": "markdown",
      "source": [
        "### Bi-LSTM"
      ],
      "metadata": {
        "id": "FUX88OQDC2hw"
      }
    },
    {
      "cell_type": "code",
      "source": [
        "# EMBEDDING_DIM = 100\n",
        "# class_num = 1\n",
        "# model = Sequential()\n",
        "# model.add(Embedding(input_dim = vocab_size, output_dim = EMBEDDING_DIM, input_length= X.shape[1],\n",
        "#                     weights = [gensim_weight_matrix],trainable = False))\n",
        "# model.add(Bidirectional(CuDNNLSTM(100,return_sequences=True)))\n",
        "# model.add(Bidirectional(CuDNNLSTM(200,return_sequences=True)))\n",
        "# model.add(Bidirectional(CuDNNLSTM(200,return_sequences=True)))\n",
        "# model.add(Bidirectional(CuDNNLSTM(100,return_sequences=False)))\n",
        "# model.add(Dense(1, activation = 'sigmoid'))\n",
        "# model.compile(optimizer = 'adam', loss = 'binary_crossentropy',  metrics = ['accuracy'])\n",
        "# model.summary()"
      ],
      "metadata": {
        "id": "1YlgcfPcVPHX"
      },
      "execution_count": null,
      "outputs": []
    },
    {
      "cell_type": "code",
      "source": [
        "# model.fit(X, Y_train_final , epochs = 50, batch_size = 100)"
      ],
      "metadata": {
        "id": "9WmjYv8BV113"
      },
      "execution_count": null,
      "outputs": []
    },
    {
      "cell_type": "code",
      "source": [
        "# def Sentences(group_of_words): #makes a list of lists containing sentences for each single sample \n",
        "#   lst = []\n",
        "#   for i in range(0,840):\n",
        "#     appendlist = []\n",
        "#     string = group_of_words[i]\n",
        "#     appendstr = ' '.join(string)\n",
        "#     appendlist.append(appendstr)\n",
        "#     lst.append(appendlist)\n",
        "#   return lst\n",
        "\n",
        "# concat_word_groups = Sentences(word_groups)"
      ],
      "metadata": {
        "id": "lSrPmI4p1mu6"
      },
      "execution_count": null,
      "outputs": []
    },
    {
      "cell_type": "markdown",
      "metadata": {
        "id": "xTG76df9UnCH"
      },
      "source": [
        "### CNN \n",
        "\n",
        "\n"
      ]
    },
    {
      "cell_type": "code",
      "execution_count": null,
      "metadata": {
        "id": "xtHVg87jrizi"
      },
      "outputs": [],
      "source": [
        "# model = Sequential()\n",
        "# model.add(Convolution1D(filters=32, kernel_size=3, activation='relu', input_shape=(56,1)))\n",
        "# model.add(Convolution1D(filters=64, kernel_size=3, activation='relu'))\n",
        "# model.add(Convolution1D(filters=64, kernel_size=3, activation='relu'))\n",
        "# model.add(Flatten())\n",
        "# model.add(Dense(100, activation='relu'))\n",
        "# model.add(Dense(50, activation='relu'))\n",
        "# model.add(Dense(25, activation='relu'))\n",
        "# model.add(Dense(1, activation='sigmoid'))"
      ]
    },
    {
      "cell_type": "code",
      "source": [
        "# model.compile(optimizer='adam',loss='binary_crossentropy', metrics=['accuracy'])"
      ],
      "metadata": {
        "id": "9iTRTYRtCqkF"
      },
      "execution_count": null,
      "outputs": []
    },
    {
      "cell_type": "code",
      "source": [
        "# model.fit(X_crosstrain,Y_crosstrain, batch_size=50, epochs=150)\n",
        "# accuracy = model.evaluate(X_crosstest, Y_crosstest, batch_size=50)\n",
        "# print(accuracy)"
      ],
      "metadata": {
        "id": "MTxalRbpC5pG"
      },
      "execution_count": null,
      "outputs": []
    },
    {
      "cell_type": "code",
      "source": [
        "# Y_tensor =tf.convert_to_tensor(Y_tr)"
      ],
      "metadata": {
        "id": "r2kn2NjBwDe0"
      },
      "execution_count": null,
      "outputs": []
    },
    {
      "cell_type": "code",
      "source": [
        "# height, width, depth = X_tr.shape[0], X_tr.shape[1], X_tr.shape[2]\n",
        "# input_shape=(width,depth)\n",
        "# input = Input(shape=input_shape)\n",
        "# X = Convolution1D(filters=32, kernel_size=3, activation='relu')(input)\n",
        "# X = Convolution1D(filters=64, kernel_size=3, activation='relu')(X)\n",
        "# X = Convolution1D(filters=64, kernel_size=3, activation='relu')(X)\n",
        "# X = Flatten()(X)\n",
        "# concatenate = tf.keras.layers.Concatenate(axis=1)([X, berttensor1])\n",
        "# X = Dense(100, activation='relu')(concatenate)\n",
        "# X = Dense(50, activation='relu')(X)\n",
        "# X = Dense(10, activation = 'relu')(X)\n",
        "# output = Dense(1, activation = \"sigmoid\")(X)\n",
        "\n",
        "# model = Model(inputs=input, outputs=output)"
      ],
      "metadata": {
        "id": "0tYROUBOx8g6"
      },
      "execution_count": null,
      "outputs": []
    },
    {
      "cell_type": "code",
      "source": [
        "# newinput = Input(shape=[10880])\n",
        "# hidden1 = Dense(20, activation='relu')(newinput)\n",
        "# hidden2 = Dense(10, activation='relu')(hidden1)\n",
        "# output = Dense(1, activation='sigmoid')(hidden2)\n",
        "# model = Model(inputs=newinput, outputs=output)"
      ],
      "metadata": {
        "id": "k19C_Q8OuXYK"
      },
      "execution_count": null,
      "outputs": []
    },
    {
      "cell_type": "code",
      "source": [
        "# epochs, batch_size, test_batch_size = 50, 50, 50\n",
        "# model.compile(loss='binary_crossentropy', optimizer='adam', metrics=['accuracy'])\n",
        "# model.fit(X_tr,Y_tr, batch_size=batch_size, epochs=epochs)"
      ],
      "metadata": {
        "id": "EqxSZxvk8jal"
      },
      "execution_count": null,
      "outputs": []
    },
    {
      "cell_type": "code",
      "execution_count": null,
      "metadata": {
        "id": "EJfaF9ZnCfa5"
      },
      "outputs": [],
      "source": [
        "# def evaluate_model(trainX, trainy, testX, testy): \n",
        "# \tepochs, batch_size, test_batch_size = 120, 50, 50\n",
        "# \theight, width, depth = trainX.shape[0], trainX.shape[1], trainX.shape[2]\n",
        "# \tmodel = Sequential()\n",
        "# \tmodel.add(Convolution1D(filters=32, kernel_size=3, activation='relu', input_shape=(width,depth)))\n",
        "# \tmodel.add(Convolution1D(filters=64, kernel_size=3, activation='relu'))\n",
        "# \tmodel.add(Flatten())\n",
        "# \tmodel.add(Dense(1, activation='sigmoid'))\n",
        "# \tmodel.compile(loss='binary_crossentropy', optimizer='adam', metrics=['accuracy'])\n",
        "# \tmodel.fit(trainX, trainy, epochs=epochs, batch_size=batch_size)\n",
        "# \t_, accuracy = model.evaluate(testX, testy, batch_size=test_batch_size)\n",
        "# \treturn accuracy\n",
        "\n",
        "# model_accuracy = evaluate_model(X_crosstrain, Y_crosstrain, X_crosstest, Y_crosstest)"
      ]
    }
  ],
  "metadata": {
    "colab": {
      "collapsed_sections": [
        "6R-MYnl67itv",
        "XA_16jIuNd8R",
        "t0aP6KSybckZ",
        "qHXOnyz-bhD6",
        "zrt9DdUVG5kj",
        "C2R_t5qPz2B4",
        "yJKcPwvvxGiE",
        "g04W7nK0nrK5",
        "GDejXefWJLZn",
        "U2ey9Npf2t1I",
        "aKT7-wg_Kte3",
        "FUX88OQDC2hw",
        "xTG76df9UnCH"
      ],
      "name": "Code_Smell_Classification_using_Deep_Learning.ipynb",
      "provenance": [],
      "include_colab_link": true
    },
    "kernelspec": {
      "display_name": "Python 3",
      "name": "python3"
    },
    "language_info": {
      "name": "python"
    },
    "accelerator": "GPU"
  },
  "nbformat": 4,
  "nbformat_minor": 0
}